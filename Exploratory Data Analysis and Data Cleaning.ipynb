{
 "cells": [
  {
   "cell_type": "code",
   "execution_count": 1,
   "metadata": {},
   "outputs": [
    {
     "name": "stdout",
     "output_type": "stream",
     "text": [
      "Assalam-o-Alaikum!\n"
     ]
    }
   ],
   "source": [
    "greetings = \"Assalam-o-Alaikum!\"\n",
    "print(greetings)"
   ]
  },
  {
   "cell_type": "markdown",
   "metadata": {},
   "source": [
    "### Import Libraries"
   ]
  },
  {
   "cell_type": "code",
   "execution_count": 2,
   "metadata": {},
   "outputs": [],
   "source": [
    "import pandas as pd\n",
    "import matplotlib.pyplot as plt\n",
    "import seaborn as sns\n",
    "import datetime\n",
    "import pickle\n",
    "import numpy as np"
   ]
  },
  {
   "cell_type": "markdown",
   "metadata": {},
   "source": [
    "### DataSets"
   ]
  },
  {
   "cell_type": "markdown",
   "metadata": {},
   "source": [
    "**Training Data**"
   ]
  },
  {
   "cell_type": "code",
   "execution_count": 3,
   "metadata": {
    "scrolled": false
   },
   "outputs": [
    {
     "data": {
      "text/html": [
       "<div>\n",
       "<style scoped>\n",
       "    .dataframe tbody tr th:only-of-type {\n",
       "        vertical-align: middle;\n",
       "    }\n",
       "\n",
       "    .dataframe tbody tr th {\n",
       "        vertical-align: top;\n",
       "    }\n",
       "\n",
       "    .dataframe thead th {\n",
       "        text-align: right;\n",
       "    }\n",
       "</style>\n",
       "<table border=\"1\" class=\"dataframe\">\n",
       "  <thead>\n",
       "    <tr style=\"text-align: right;\">\n",
       "      <th></th>\n",
       "      <th>id</th>\n",
       "      <th>activity_new</th>\n",
       "      <th>campaign_disc_ele</th>\n",
       "      <th>channel_sales</th>\n",
       "      <th>cons_12m</th>\n",
       "      <th>cons_gas_12m</th>\n",
       "      <th>cons_last_month</th>\n",
       "      <th>date_activ</th>\n",
       "      <th>date_end</th>\n",
       "      <th>date_first_activ</th>\n",
       "      <th>...</th>\n",
       "      <th>forecast_price_pow_p1</th>\n",
       "      <th>has_gas</th>\n",
       "      <th>imp_cons</th>\n",
       "      <th>margin_gross_pow_ele</th>\n",
       "      <th>margin_net_pow_ele</th>\n",
       "      <th>nb_prod_act</th>\n",
       "      <th>net_margin</th>\n",
       "      <th>num_years_antig</th>\n",
       "      <th>origin_up</th>\n",
       "      <th>pow_max</th>\n",
       "    </tr>\n",
       "  </thead>\n",
       "  <tbody>\n",
       "    <tr>\n",
       "      <th>0</th>\n",
       "      <td>48ada52261e7cf58715202705a0451c9</td>\n",
       "      <td>esoiiifxdlbkcsluxmfuacbdckommixw</td>\n",
       "      <td>NaN</td>\n",
       "      <td>lmkebamcaaclubfxadlmueccxoimlema</td>\n",
       "      <td>309275</td>\n",
       "      <td>0</td>\n",
       "      <td>10025</td>\n",
       "      <td>2012-11-07</td>\n",
       "      <td>2016-11-06</td>\n",
       "      <td>NaN</td>\n",
       "      <td>...</td>\n",
       "      <td>58.995952</td>\n",
       "      <td>f</td>\n",
       "      <td>831.8</td>\n",
       "      <td>-41.76</td>\n",
       "      <td>-41.76</td>\n",
       "      <td>1</td>\n",
       "      <td>1732.36</td>\n",
       "      <td>3</td>\n",
       "      <td>ldkssxwpmemidmecebumciepifcamkci</td>\n",
       "      <td>180.000</td>\n",
       "    </tr>\n",
       "    <tr>\n",
       "      <th>1</th>\n",
       "      <td>24011ae4ebbe3035111d65fa7c15bc57</td>\n",
       "      <td>NaN</td>\n",
       "      <td>NaN</td>\n",
       "      <td>foosdfpfkusacimwkcsosbicdxkicaua</td>\n",
       "      <td>0</td>\n",
       "      <td>54946</td>\n",
       "      <td>0</td>\n",
       "      <td>2013-06-15</td>\n",
       "      <td>2016-06-15</td>\n",
       "      <td>NaN</td>\n",
       "      <td>...</td>\n",
       "      <td>40.606701</td>\n",
       "      <td>t</td>\n",
       "      <td>0.0</td>\n",
       "      <td>25.44</td>\n",
       "      <td>25.44</td>\n",
       "      <td>2</td>\n",
       "      <td>678.99</td>\n",
       "      <td>3</td>\n",
       "      <td>lxidpiddsbxsbosboudacockeimpuepw</td>\n",
       "      <td>43.648</td>\n",
       "    </tr>\n",
       "    <tr>\n",
       "      <th>2</th>\n",
       "      <td>d29c2c54acc38ff3c0614d0a653813dd</td>\n",
       "      <td>NaN</td>\n",
       "      <td>NaN</td>\n",
       "      <td>NaN</td>\n",
       "      <td>4660</td>\n",
       "      <td>0</td>\n",
       "      <td>0</td>\n",
       "      <td>2009-08-21</td>\n",
       "      <td>2016-08-30</td>\n",
       "      <td>NaN</td>\n",
       "      <td>...</td>\n",
       "      <td>44.311378</td>\n",
       "      <td>f</td>\n",
       "      <td>0.0</td>\n",
       "      <td>16.38</td>\n",
       "      <td>16.38</td>\n",
       "      <td>1</td>\n",
       "      <td>18.89</td>\n",
       "      <td>6</td>\n",
       "      <td>kamkkxfxxuwbdslkwifmmcsiusiuosws</td>\n",
       "      <td>13.800</td>\n",
       "    </tr>\n",
       "  </tbody>\n",
       "</table>\n",
       "<p>3 rows × 32 columns</p>\n",
       "</div>"
      ],
      "text/plain": [
       "                                 id                      activity_new  \\\n",
       "0  48ada52261e7cf58715202705a0451c9  esoiiifxdlbkcsluxmfuacbdckommixw   \n",
       "1  24011ae4ebbe3035111d65fa7c15bc57                               NaN   \n",
       "2  d29c2c54acc38ff3c0614d0a653813dd                               NaN   \n",
       "\n",
       "   campaign_disc_ele                     channel_sales  cons_12m  \\\n",
       "0                NaN  lmkebamcaaclubfxadlmueccxoimlema    309275   \n",
       "1                NaN  foosdfpfkusacimwkcsosbicdxkicaua         0   \n",
       "2                NaN                               NaN      4660   \n",
       "\n",
       "   cons_gas_12m  cons_last_month  date_activ    date_end date_first_activ  \\\n",
       "0             0            10025  2012-11-07  2016-11-06              NaN   \n",
       "1         54946                0  2013-06-15  2016-06-15              NaN   \n",
       "2             0                0  2009-08-21  2016-08-30              NaN   \n",
       "\n",
       "   ... forecast_price_pow_p1 has_gas  imp_cons  margin_gross_pow_ele  \\\n",
       "0  ...             58.995952       f     831.8                -41.76   \n",
       "1  ...             40.606701       t       0.0                 25.44   \n",
       "2  ...             44.311378       f       0.0                 16.38   \n",
       "\n",
       "   margin_net_pow_ele  nb_prod_act  net_margin  num_years_antig  \\\n",
       "0              -41.76            1     1732.36                3   \n",
       "1               25.44            2      678.99                3   \n",
       "2               16.38            1       18.89                6   \n",
       "\n",
       "                          origin_up  pow_max  \n",
       "0  ldkssxwpmemidmecebumciepifcamkci  180.000  \n",
       "1  lxidpiddsbxsbosboudacockeimpuepw   43.648  \n",
       "2  kamkkxfxxuwbdslkwifmmcsiusiuosws   13.800  \n",
       "\n",
       "[3 rows x 32 columns]"
      ]
     },
     "execution_count": 3,
     "metadata": {},
     "output_type": "execute_result"
    }
   ],
   "source": [
    "df_training_data = pd.read_csv(\"training_data\")\n",
    "df_training_data.head(3)"
   ]
  },
  {
   "cell_type": "markdown",
   "metadata": {},
   "source": [
    "**Training Data output**"
   ]
  },
  {
   "cell_type": "code",
   "execution_count": 4,
   "metadata": {},
   "outputs": [
    {
     "data": {
      "text/html": [
       "<div>\n",
       "<style scoped>\n",
       "    .dataframe tbody tr th:only-of-type {\n",
       "        vertical-align: middle;\n",
       "    }\n",
       "\n",
       "    .dataframe tbody tr th {\n",
       "        vertical-align: top;\n",
       "    }\n",
       "\n",
       "    .dataframe thead th {\n",
       "        text-align: right;\n",
       "    }\n",
       "</style>\n",
       "<table border=\"1\" class=\"dataframe\">\n",
       "  <thead>\n",
       "    <tr style=\"text-align: right;\">\n",
       "      <th></th>\n",
       "      <th>id</th>\n",
       "      <th>churn</th>\n",
       "    </tr>\n",
       "  </thead>\n",
       "  <tbody>\n",
       "    <tr>\n",
       "      <th>0</th>\n",
       "      <td>48ada52261e7cf58715202705a0451c9</td>\n",
       "      <td>0</td>\n",
       "    </tr>\n",
       "    <tr>\n",
       "      <th>1</th>\n",
       "      <td>24011ae4ebbe3035111d65fa7c15bc57</td>\n",
       "      <td>1</td>\n",
       "    </tr>\n",
       "    <tr>\n",
       "      <th>2</th>\n",
       "      <td>d29c2c54acc38ff3c0614d0a653813dd</td>\n",
       "      <td>0</td>\n",
       "    </tr>\n",
       "    <tr>\n",
       "      <th>3</th>\n",
       "      <td>764c75f661154dac3a6c254cd082ea7d</td>\n",
       "      <td>0</td>\n",
       "    </tr>\n",
       "    <tr>\n",
       "      <th>4</th>\n",
       "      <td>bba03439a292a1e166f80264c16191cb</td>\n",
       "      <td>0</td>\n",
       "    </tr>\n",
       "  </tbody>\n",
       "</table>\n",
       "</div>"
      ],
      "text/plain": [
       "                                 id  churn\n",
       "0  48ada52261e7cf58715202705a0451c9      0\n",
       "1  24011ae4ebbe3035111d65fa7c15bc57      1\n",
       "2  d29c2c54acc38ff3c0614d0a653813dd      0\n",
       "3  764c75f661154dac3a6c254cd082ea7d      0\n",
       "4  bba03439a292a1e166f80264c16191cb      0"
      ]
     },
     "execution_count": 4,
     "metadata": {},
     "output_type": "execute_result"
    }
   ],
   "source": [
    "df_training_data_output = pd.read_csv(\"training_data_output\")\n",
    "df_training_data_output.head()"
   ]
  },
  {
   "cell_type": "markdown",
   "metadata": {},
   "source": [
    "**Training Data History**"
   ]
  },
  {
   "cell_type": "code",
   "execution_count": 5,
   "metadata": {},
   "outputs": [
    {
     "data": {
      "text/html": [
       "<div>\n",
       "<style scoped>\n",
       "    .dataframe tbody tr th:only-of-type {\n",
       "        vertical-align: middle;\n",
       "    }\n",
       "\n",
       "    .dataframe tbody tr th {\n",
       "        vertical-align: top;\n",
       "    }\n",
       "\n",
       "    .dataframe thead th {\n",
       "        text-align: right;\n",
       "    }\n",
       "</style>\n",
       "<table border=\"1\" class=\"dataframe\">\n",
       "  <thead>\n",
       "    <tr style=\"text-align: right;\">\n",
       "      <th></th>\n",
       "      <th>id</th>\n",
       "      <th>price_date</th>\n",
       "      <th>price_p1_var</th>\n",
       "      <th>price_p2_var</th>\n",
       "      <th>price_p3_var</th>\n",
       "      <th>price_p1_fix</th>\n",
       "      <th>price_p2_fix</th>\n",
       "      <th>price_p3_fix</th>\n",
       "    </tr>\n",
       "  </thead>\n",
       "  <tbody>\n",
       "    <tr>\n",
       "      <th>0</th>\n",
       "      <td>038af19179925da21a25619c5a24b745</td>\n",
       "      <td>2015-01-01</td>\n",
       "      <td>0.151367</td>\n",
       "      <td>0.0</td>\n",
       "      <td>0.0</td>\n",
       "      <td>44.266931</td>\n",
       "      <td>0.0</td>\n",
       "      <td>0.0</td>\n",
       "    </tr>\n",
       "    <tr>\n",
       "      <th>1</th>\n",
       "      <td>038af19179925da21a25619c5a24b745</td>\n",
       "      <td>2015-02-01</td>\n",
       "      <td>0.151367</td>\n",
       "      <td>0.0</td>\n",
       "      <td>0.0</td>\n",
       "      <td>44.266931</td>\n",
       "      <td>0.0</td>\n",
       "      <td>0.0</td>\n",
       "    </tr>\n",
       "    <tr>\n",
       "      <th>2</th>\n",
       "      <td>038af19179925da21a25619c5a24b745</td>\n",
       "      <td>2015-03-01</td>\n",
       "      <td>0.151367</td>\n",
       "      <td>0.0</td>\n",
       "      <td>0.0</td>\n",
       "      <td>44.266931</td>\n",
       "      <td>0.0</td>\n",
       "      <td>0.0</td>\n",
       "    </tr>\n",
       "    <tr>\n",
       "      <th>3</th>\n",
       "      <td>038af19179925da21a25619c5a24b745</td>\n",
       "      <td>2015-04-01</td>\n",
       "      <td>0.149626</td>\n",
       "      <td>0.0</td>\n",
       "      <td>0.0</td>\n",
       "      <td>44.266931</td>\n",
       "      <td>0.0</td>\n",
       "      <td>0.0</td>\n",
       "    </tr>\n",
       "    <tr>\n",
       "      <th>4</th>\n",
       "      <td>038af19179925da21a25619c5a24b745</td>\n",
       "      <td>2015-05-01</td>\n",
       "      <td>0.149626</td>\n",
       "      <td>0.0</td>\n",
       "      <td>0.0</td>\n",
       "      <td>44.266931</td>\n",
       "      <td>0.0</td>\n",
       "      <td>0.0</td>\n",
       "    </tr>\n",
       "  </tbody>\n",
       "</table>\n",
       "</div>"
      ],
      "text/plain": [
       "                                 id  price_date  price_p1_var  price_p2_var  \\\n",
       "0  038af19179925da21a25619c5a24b745  2015-01-01      0.151367           0.0   \n",
       "1  038af19179925da21a25619c5a24b745  2015-02-01      0.151367           0.0   \n",
       "2  038af19179925da21a25619c5a24b745  2015-03-01      0.151367           0.0   \n",
       "3  038af19179925da21a25619c5a24b745  2015-04-01      0.149626           0.0   \n",
       "4  038af19179925da21a25619c5a24b745  2015-05-01      0.149626           0.0   \n",
       "\n",
       "   price_p3_var  price_p1_fix  price_p2_fix  price_p3_fix  \n",
       "0           0.0     44.266931           0.0           0.0  \n",
       "1           0.0     44.266931           0.0           0.0  \n",
       "2           0.0     44.266931           0.0           0.0  \n",
       "3           0.0     44.266931           0.0           0.0  \n",
       "4           0.0     44.266931           0.0           0.0  "
      ]
     },
     "execution_count": 5,
     "metadata": {},
     "output_type": "execute_result"
    }
   ],
   "source": [
    "df_training_data_history = pd.read_csv(\"training_data_history\")\n",
    "df_training_data_history.head()"
   ]
  },
  {
   "cell_type": "markdown",
   "metadata": {},
   "source": [
    "### Merge DataSets"
   ]
  },
  {
   "cell_type": "code",
   "execution_count": 6,
   "metadata": {},
   "outputs": [
    {
     "data": {
      "text/html": [
       "<div>\n",
       "<style scoped>\n",
       "    .dataframe tbody tr th:only-of-type {\n",
       "        vertical-align: middle;\n",
       "    }\n",
       "\n",
       "    .dataframe tbody tr th {\n",
       "        vertical-align: top;\n",
       "    }\n",
       "\n",
       "    .dataframe thead th {\n",
       "        text-align: right;\n",
       "    }\n",
       "</style>\n",
       "<table border=\"1\" class=\"dataframe\">\n",
       "  <thead>\n",
       "    <tr style=\"text-align: right;\">\n",
       "      <th></th>\n",
       "      <th>id</th>\n",
       "      <th>activity_new</th>\n",
       "      <th>campaign_disc_ele</th>\n",
       "      <th>channel_sales</th>\n",
       "      <th>cons_12m</th>\n",
       "      <th>cons_gas_12m</th>\n",
       "      <th>cons_last_month</th>\n",
       "      <th>date_activ</th>\n",
       "      <th>date_end</th>\n",
       "      <th>date_first_activ</th>\n",
       "      <th>...</th>\n",
       "      <th>has_gas</th>\n",
       "      <th>imp_cons</th>\n",
       "      <th>margin_gross_pow_ele</th>\n",
       "      <th>margin_net_pow_ele</th>\n",
       "      <th>nb_prod_act</th>\n",
       "      <th>net_margin</th>\n",
       "      <th>num_years_antig</th>\n",
       "      <th>origin_up</th>\n",
       "      <th>pow_max</th>\n",
       "      <th>churn</th>\n",
       "    </tr>\n",
       "  </thead>\n",
       "  <tbody>\n",
       "    <tr>\n",
       "      <th>0</th>\n",
       "      <td>48ada52261e7cf58715202705a0451c9</td>\n",
       "      <td>esoiiifxdlbkcsluxmfuacbdckommixw</td>\n",
       "      <td>NaN</td>\n",
       "      <td>lmkebamcaaclubfxadlmueccxoimlema</td>\n",
       "      <td>309275</td>\n",
       "      <td>0</td>\n",
       "      <td>10025</td>\n",
       "      <td>2012-11-07</td>\n",
       "      <td>2016-11-06</td>\n",
       "      <td>NaN</td>\n",
       "      <td>...</td>\n",
       "      <td>f</td>\n",
       "      <td>831.8</td>\n",
       "      <td>-41.76</td>\n",
       "      <td>-41.76</td>\n",
       "      <td>1</td>\n",
       "      <td>1732.36</td>\n",
       "      <td>3</td>\n",
       "      <td>ldkssxwpmemidmecebumciepifcamkci</td>\n",
       "      <td>180.000</td>\n",
       "      <td>0</td>\n",
       "    </tr>\n",
       "    <tr>\n",
       "      <th>1</th>\n",
       "      <td>24011ae4ebbe3035111d65fa7c15bc57</td>\n",
       "      <td>NaN</td>\n",
       "      <td>NaN</td>\n",
       "      <td>foosdfpfkusacimwkcsosbicdxkicaua</td>\n",
       "      <td>0</td>\n",
       "      <td>54946</td>\n",
       "      <td>0</td>\n",
       "      <td>2013-06-15</td>\n",
       "      <td>2016-06-15</td>\n",
       "      <td>NaN</td>\n",
       "      <td>...</td>\n",
       "      <td>t</td>\n",
       "      <td>0.0</td>\n",
       "      <td>25.44</td>\n",
       "      <td>25.44</td>\n",
       "      <td>2</td>\n",
       "      <td>678.99</td>\n",
       "      <td>3</td>\n",
       "      <td>lxidpiddsbxsbosboudacockeimpuepw</td>\n",
       "      <td>43.648</td>\n",
       "      <td>1</td>\n",
       "    </tr>\n",
       "    <tr>\n",
       "      <th>2</th>\n",
       "      <td>d29c2c54acc38ff3c0614d0a653813dd</td>\n",
       "      <td>NaN</td>\n",
       "      <td>NaN</td>\n",
       "      <td>NaN</td>\n",
       "      <td>4660</td>\n",
       "      <td>0</td>\n",
       "      <td>0</td>\n",
       "      <td>2009-08-21</td>\n",
       "      <td>2016-08-30</td>\n",
       "      <td>NaN</td>\n",
       "      <td>...</td>\n",
       "      <td>f</td>\n",
       "      <td>0.0</td>\n",
       "      <td>16.38</td>\n",
       "      <td>16.38</td>\n",
       "      <td>1</td>\n",
       "      <td>18.89</td>\n",
       "      <td>6</td>\n",
       "      <td>kamkkxfxxuwbdslkwifmmcsiusiuosws</td>\n",
       "      <td>13.800</td>\n",
       "      <td>0</td>\n",
       "    </tr>\n",
       "  </tbody>\n",
       "</table>\n",
       "<p>3 rows × 33 columns</p>\n",
       "</div>"
      ],
      "text/plain": [
       "                                 id                      activity_new  \\\n",
       "0  48ada52261e7cf58715202705a0451c9  esoiiifxdlbkcsluxmfuacbdckommixw   \n",
       "1  24011ae4ebbe3035111d65fa7c15bc57                               NaN   \n",
       "2  d29c2c54acc38ff3c0614d0a653813dd                               NaN   \n",
       "\n",
       "   campaign_disc_ele                     channel_sales  cons_12m  \\\n",
       "0                NaN  lmkebamcaaclubfxadlmueccxoimlema    309275   \n",
       "1                NaN  foosdfpfkusacimwkcsosbicdxkicaua         0   \n",
       "2                NaN                               NaN      4660   \n",
       "\n",
       "   cons_gas_12m  cons_last_month  date_activ    date_end date_first_activ  \\\n",
       "0             0            10025  2012-11-07  2016-11-06              NaN   \n",
       "1         54946                0  2013-06-15  2016-06-15              NaN   \n",
       "2             0                0  2009-08-21  2016-08-30              NaN   \n",
       "\n",
       "   ... has_gas imp_cons  margin_gross_pow_ele  margin_net_pow_ele  \\\n",
       "0  ...       f    831.8                -41.76              -41.76   \n",
       "1  ...       t      0.0                 25.44               25.44   \n",
       "2  ...       f      0.0                 16.38               16.38   \n",
       "\n",
       "   nb_prod_act  net_margin  num_years_antig                         origin_up  \\\n",
       "0            1     1732.36                3  ldkssxwpmemidmecebumciepifcamkci   \n",
       "1            2      678.99                3  lxidpiddsbxsbosboudacockeimpuepw   \n",
       "2            1       18.89                6  kamkkxfxxuwbdslkwifmmcsiusiuosws   \n",
       "\n",
       "   pow_max  churn  \n",
       "0  180.000      0  \n",
       "1   43.648      1  \n",
       "2   13.800      0  \n",
       "\n",
       "[3 rows x 33 columns]"
      ]
     },
     "execution_count": 6,
     "metadata": {},
     "output_type": "execute_result"
    }
   ],
   "source": [
    "df_train = pd.merge(df_training_data, df_training_data_output, on = \"id\")\n",
    "df_train.head(3)"
   ]
  },
  {
   "cell_type": "markdown",
   "metadata": {},
   "source": [
    "### General statistics of a dataframe"
   ]
  },
  {
   "cell_type": "markdown",
   "metadata": {},
   "source": [
    "**Data Types**"
   ]
  },
  {
   "cell_type": "code",
   "execution_count": 7,
   "metadata": {},
   "outputs": [
    {
     "data": {
      "text/html": [
       "<div>\n",
       "<style scoped>\n",
       "    .dataframe tbody tr th:only-of-type {\n",
       "        vertical-align: middle;\n",
       "    }\n",
       "\n",
       "    .dataframe tbody tr th {\n",
       "        vertical-align: top;\n",
       "    }\n",
       "\n",
       "    .dataframe thead th {\n",
       "        text-align: right;\n",
       "    }\n",
       "</style>\n",
       "<table border=\"1\" class=\"dataframe\">\n",
       "  <thead>\n",
       "    <tr style=\"text-align: right;\">\n",
       "      <th></th>\n",
       "      <th>Data Type</th>\n",
       "    </tr>\n",
       "  </thead>\n",
       "  <tbody>\n",
       "    <tr>\n",
       "      <th>id</th>\n",
       "      <td>object</td>\n",
       "    </tr>\n",
       "    <tr>\n",
       "      <th>activity_new</th>\n",
       "      <td>object</td>\n",
       "    </tr>\n",
       "    <tr>\n",
       "      <th>campaign_disc_ele</th>\n",
       "      <td>float64</td>\n",
       "    </tr>\n",
       "    <tr>\n",
       "      <th>channel_sales</th>\n",
       "      <td>object</td>\n",
       "    </tr>\n",
       "    <tr>\n",
       "      <th>cons_12m</th>\n",
       "      <td>int64</td>\n",
       "    </tr>\n",
       "    <tr>\n",
       "      <th>cons_gas_12m</th>\n",
       "      <td>int64</td>\n",
       "    </tr>\n",
       "    <tr>\n",
       "      <th>cons_last_month</th>\n",
       "      <td>int64</td>\n",
       "    </tr>\n",
       "    <tr>\n",
       "      <th>date_activ</th>\n",
       "      <td>object</td>\n",
       "    </tr>\n",
       "    <tr>\n",
       "      <th>date_end</th>\n",
       "      <td>object</td>\n",
       "    </tr>\n",
       "    <tr>\n",
       "      <th>date_first_activ</th>\n",
       "      <td>object</td>\n",
       "    </tr>\n",
       "    <tr>\n",
       "      <th>date_modif_prod</th>\n",
       "      <td>object</td>\n",
       "    </tr>\n",
       "    <tr>\n",
       "      <th>date_renewal</th>\n",
       "      <td>object</td>\n",
       "    </tr>\n",
       "    <tr>\n",
       "      <th>forecast_base_bill_ele</th>\n",
       "      <td>float64</td>\n",
       "    </tr>\n",
       "    <tr>\n",
       "      <th>forecast_base_bill_year</th>\n",
       "      <td>float64</td>\n",
       "    </tr>\n",
       "    <tr>\n",
       "      <th>forecast_bill_12m</th>\n",
       "      <td>float64</td>\n",
       "    </tr>\n",
       "    <tr>\n",
       "      <th>forecast_cons</th>\n",
       "      <td>float64</td>\n",
       "    </tr>\n",
       "    <tr>\n",
       "      <th>forecast_cons_12m</th>\n",
       "      <td>float64</td>\n",
       "    </tr>\n",
       "    <tr>\n",
       "      <th>forecast_cons_year</th>\n",
       "      <td>int64</td>\n",
       "    </tr>\n",
       "    <tr>\n",
       "      <th>forecast_discount_energy</th>\n",
       "      <td>float64</td>\n",
       "    </tr>\n",
       "    <tr>\n",
       "      <th>forecast_meter_rent_12m</th>\n",
       "      <td>float64</td>\n",
       "    </tr>\n",
       "    <tr>\n",
       "      <th>forecast_price_energy_p1</th>\n",
       "      <td>float64</td>\n",
       "    </tr>\n",
       "    <tr>\n",
       "      <th>forecast_price_energy_p2</th>\n",
       "      <td>float64</td>\n",
       "    </tr>\n",
       "    <tr>\n",
       "      <th>forecast_price_pow_p1</th>\n",
       "      <td>float64</td>\n",
       "    </tr>\n",
       "    <tr>\n",
       "      <th>has_gas</th>\n",
       "      <td>object</td>\n",
       "    </tr>\n",
       "    <tr>\n",
       "      <th>imp_cons</th>\n",
       "      <td>float64</td>\n",
       "    </tr>\n",
       "    <tr>\n",
       "      <th>margin_gross_pow_ele</th>\n",
       "      <td>float64</td>\n",
       "    </tr>\n",
       "    <tr>\n",
       "      <th>margin_net_pow_ele</th>\n",
       "      <td>float64</td>\n",
       "    </tr>\n",
       "    <tr>\n",
       "      <th>nb_prod_act</th>\n",
       "      <td>int64</td>\n",
       "    </tr>\n",
       "    <tr>\n",
       "      <th>net_margin</th>\n",
       "      <td>float64</td>\n",
       "    </tr>\n",
       "    <tr>\n",
       "      <th>num_years_antig</th>\n",
       "      <td>int64</td>\n",
       "    </tr>\n",
       "    <tr>\n",
       "      <th>origin_up</th>\n",
       "      <td>object</td>\n",
       "    </tr>\n",
       "    <tr>\n",
       "      <th>pow_max</th>\n",
       "      <td>float64</td>\n",
       "    </tr>\n",
       "    <tr>\n",
       "      <th>churn</th>\n",
       "      <td>int64</td>\n",
       "    </tr>\n",
       "  </tbody>\n",
       "</table>\n",
       "</div>"
      ],
      "text/plain": [
       "                         Data Type\n",
       "id                          object\n",
       "activity_new                object\n",
       "campaign_disc_ele          float64\n",
       "channel_sales               object\n",
       "cons_12m                     int64\n",
       "cons_gas_12m                 int64\n",
       "cons_last_month              int64\n",
       "date_activ                  object\n",
       "date_end                    object\n",
       "date_first_activ            object\n",
       "date_modif_prod             object\n",
       "date_renewal                object\n",
       "forecast_base_bill_ele     float64\n",
       "forecast_base_bill_year    float64\n",
       "forecast_bill_12m          float64\n",
       "forecast_cons              float64\n",
       "forecast_cons_12m          float64\n",
       "forecast_cons_year           int64\n",
       "forecast_discount_energy   float64\n",
       "forecast_meter_rent_12m    float64\n",
       "forecast_price_energy_p1   float64\n",
       "forecast_price_energy_p2   float64\n",
       "forecast_price_pow_p1      float64\n",
       "has_gas                     object\n",
       "imp_cons                   float64\n",
       "margin_gross_pow_ele       float64\n",
       "margin_net_pow_ele         float64\n",
       "nb_prod_act                  int64\n",
       "net_margin                 float64\n",
       "num_years_antig              int64\n",
       "origin_up                   object\n",
       "pow_max                    float64\n",
       "churn                        int64"
      ]
     },
     "execution_count": 7,
     "metadata": {},
     "output_type": "execute_result"
    }
   ],
   "source": [
    "# Train Data Type\n",
    "pd.DataFrame({\"Data Type\": df_train.dtypes})"
   ]
  },
  {
   "cell_type": "code",
   "execution_count": 8,
   "metadata": {},
   "outputs": [
    {
     "data": {
      "text/html": [
       "<div>\n",
       "<style scoped>\n",
       "    .dataframe tbody tr th:only-of-type {\n",
       "        vertical-align: middle;\n",
       "    }\n",
       "\n",
       "    .dataframe tbody tr th {\n",
       "        vertical-align: top;\n",
       "    }\n",
       "\n",
       "    .dataframe thead th {\n",
       "        text-align: right;\n",
       "    }\n",
       "</style>\n",
       "<table border=\"1\" class=\"dataframe\">\n",
       "  <thead>\n",
       "    <tr style=\"text-align: right;\">\n",
       "      <th></th>\n",
       "      <th>Data Type</th>\n",
       "    </tr>\n",
       "  </thead>\n",
       "  <tbody>\n",
       "    <tr>\n",
       "      <th>id</th>\n",
       "      <td>object</td>\n",
       "    </tr>\n",
       "    <tr>\n",
       "      <th>price_date</th>\n",
       "      <td>object</td>\n",
       "    </tr>\n",
       "    <tr>\n",
       "      <th>price_p1_var</th>\n",
       "      <td>float64</td>\n",
       "    </tr>\n",
       "    <tr>\n",
       "      <th>price_p2_var</th>\n",
       "      <td>float64</td>\n",
       "    </tr>\n",
       "    <tr>\n",
       "      <th>price_p3_var</th>\n",
       "      <td>float64</td>\n",
       "    </tr>\n",
       "    <tr>\n",
       "      <th>price_p1_fix</th>\n",
       "      <td>float64</td>\n",
       "    </tr>\n",
       "    <tr>\n",
       "      <th>price_p2_fix</th>\n",
       "      <td>float64</td>\n",
       "    </tr>\n",
       "    <tr>\n",
       "      <th>price_p3_fix</th>\n",
       "      <td>float64</td>\n",
       "    </tr>\n",
       "  </tbody>\n",
       "</table>\n",
       "</div>"
      ],
      "text/plain": [
       "             Data Type\n",
       "id              object\n",
       "price_date      object\n",
       "price_p1_var   float64\n",
       "price_p2_var   float64\n",
       "price_p3_var   float64\n",
       "price_p1_fix   float64\n",
       "price_p2_fix   float64\n",
       "price_p3_fix   float64"
      ]
     },
     "execution_count": 8,
     "metadata": {},
     "output_type": "execute_result"
    }
   ],
   "source": [
    "# Training Data History\n",
    "pd.DataFrame({\"Data Type\": df_training_data_history.dtypes})"
   ]
  },
  {
   "cell_type": "markdown",
   "metadata": {},
   "source": [
    "**Train Statistics**"
   ]
  },
  {
   "cell_type": "code",
   "execution_count": 9,
   "metadata": {},
   "outputs": [
    {
     "data": {
      "text/html": [
       "<div>\n",
       "<style scoped>\n",
       "    .dataframe tbody tr th:only-of-type {\n",
       "        vertical-align: middle;\n",
       "    }\n",
       "\n",
       "    .dataframe tbody tr th {\n",
       "        vertical-align: top;\n",
       "    }\n",
       "\n",
       "    .dataframe thead th {\n",
       "        text-align: right;\n",
       "    }\n",
       "</style>\n",
       "<table border=\"1\" class=\"dataframe\">\n",
       "  <thead>\n",
       "    <tr style=\"text-align: right;\">\n",
       "      <th></th>\n",
       "      <th>campaign_disc_ele</th>\n",
       "      <th>cons_12m</th>\n",
       "      <th>cons_gas_12m</th>\n",
       "      <th>cons_last_month</th>\n",
       "      <th>forecast_base_bill_ele</th>\n",
       "      <th>forecast_base_bill_year</th>\n",
       "      <th>forecast_bill_12m</th>\n",
       "      <th>forecast_cons</th>\n",
       "      <th>forecast_cons_12m</th>\n",
       "      <th>forecast_cons_year</th>\n",
       "      <th>...</th>\n",
       "      <th>forecast_price_energy_p2</th>\n",
       "      <th>forecast_price_pow_p1</th>\n",
       "      <th>imp_cons</th>\n",
       "      <th>margin_gross_pow_ele</th>\n",
       "      <th>margin_net_pow_ele</th>\n",
       "      <th>nb_prod_act</th>\n",
       "      <th>net_margin</th>\n",
       "      <th>num_years_antig</th>\n",
       "      <th>pow_max</th>\n",
       "      <th>churn</th>\n",
       "    </tr>\n",
       "  </thead>\n",
       "  <tbody>\n",
       "    <tr>\n",
       "      <th>count</th>\n",
       "      <td>0.0</td>\n",
       "      <td>1.609600e+04</td>\n",
       "      <td>1.609600e+04</td>\n",
       "      <td>1.609600e+04</td>\n",
       "      <td>3508.000000</td>\n",
       "      <td>3508.000000</td>\n",
       "      <td>3508.000000</td>\n",
       "      <td>3508.000000</td>\n",
       "      <td>16096.000000</td>\n",
       "      <td>16096.000000</td>\n",
       "      <td>...</td>\n",
       "      <td>15970.000000</td>\n",
       "      <td>15970.000000</td>\n",
       "      <td>16096.000000</td>\n",
       "      <td>16083.000000</td>\n",
       "      <td>16083.000000</td>\n",
       "      <td>16096.000000</td>\n",
       "      <td>16081.000000</td>\n",
       "      <td>16096.000000</td>\n",
       "      <td>16093.000000</td>\n",
       "      <td>16096.000000</td>\n",
       "    </tr>\n",
       "    <tr>\n",
       "      <th>mean</th>\n",
       "      <td>NaN</td>\n",
       "      <td>1.948044e+05</td>\n",
       "      <td>3.191164e+04</td>\n",
       "      <td>1.946154e+04</td>\n",
       "      <td>335.843857</td>\n",
       "      <td>335.843857</td>\n",
       "      <td>3837.441866</td>\n",
       "      <td>206.845165</td>\n",
       "      <td>2370.555949</td>\n",
       "      <td>1907.347229</td>\n",
       "      <td>...</td>\n",
       "      <td>0.052951</td>\n",
       "      <td>43.533496</td>\n",
       "      <td>196.123447</td>\n",
       "      <td>22.462276</td>\n",
       "      <td>21.460318</td>\n",
       "      <td>1.347788</td>\n",
       "      <td>217.987028</td>\n",
       "      <td>5.030629</td>\n",
       "      <td>20.604131</td>\n",
       "      <td>0.099093</td>\n",
       "    </tr>\n",
       "    <tr>\n",
       "      <th>std</th>\n",
       "      <td>NaN</td>\n",
       "      <td>6.795151e+05</td>\n",
       "      <td>1.775885e+05</td>\n",
       "      <td>8.235676e+04</td>\n",
       "      <td>649.406000</td>\n",
       "      <td>649.406000</td>\n",
       "      <td>5425.744327</td>\n",
       "      <td>455.634288</td>\n",
       "      <td>4035.085664</td>\n",
       "      <td>5257.364759</td>\n",
       "      <td>...</td>\n",
       "      <td>0.048617</td>\n",
       "      <td>5.212252</td>\n",
       "      <td>494.366979</td>\n",
       "      <td>23.700883</td>\n",
       "      <td>27.917349</td>\n",
       "      <td>1.459808</td>\n",
       "      <td>366.742030</td>\n",
       "      <td>1.676101</td>\n",
       "      <td>21.772421</td>\n",
       "      <td>0.298796</td>\n",
       "    </tr>\n",
       "    <tr>\n",
       "      <th>min</th>\n",
       "      <td>NaN</td>\n",
       "      <td>-1.252760e+05</td>\n",
       "      <td>-3.037000e+03</td>\n",
       "      <td>-9.138600e+04</td>\n",
       "      <td>-364.940000</td>\n",
       "      <td>-364.940000</td>\n",
       "      <td>-2503.480000</td>\n",
       "      <td>0.000000</td>\n",
       "      <td>-16689.260000</td>\n",
       "      <td>-85627.000000</td>\n",
       "      <td>...</td>\n",
       "      <td>0.000000</td>\n",
       "      <td>-0.122184</td>\n",
       "      <td>-9038.210000</td>\n",
       "      <td>-525.540000</td>\n",
       "      <td>-615.660000</td>\n",
       "      <td>1.000000</td>\n",
       "      <td>-4148.990000</td>\n",
       "      <td>1.000000</td>\n",
       "      <td>1.000000</td>\n",
       "      <td>0.000000</td>\n",
       "    </tr>\n",
       "    <tr>\n",
       "      <th>25%</th>\n",
       "      <td>NaN</td>\n",
       "      <td>5.906250e+03</td>\n",
       "      <td>0.000000e+00</td>\n",
       "      <td>0.000000e+00</td>\n",
       "      <td>0.000000</td>\n",
       "      <td>0.000000</td>\n",
       "      <td>1158.175000</td>\n",
       "      <td>0.000000</td>\n",
       "      <td>513.230000</td>\n",
       "      <td>0.000000</td>\n",
       "      <td>...</td>\n",
       "      <td>0.000000</td>\n",
       "      <td>40.606701</td>\n",
       "      <td>0.000000</td>\n",
       "      <td>11.960000</td>\n",
       "      <td>11.950000</td>\n",
       "      <td>1.000000</td>\n",
       "      <td>51.970000</td>\n",
       "      <td>4.000000</td>\n",
       "      <td>12.500000</td>\n",
       "      <td>0.000000</td>\n",
       "    </tr>\n",
       "    <tr>\n",
       "      <th>50%</th>\n",
       "      <td>NaN</td>\n",
       "      <td>1.533250e+04</td>\n",
       "      <td>0.000000e+00</td>\n",
       "      <td>9.010000e+02</td>\n",
       "      <td>162.955000</td>\n",
       "      <td>162.955000</td>\n",
       "      <td>2187.230000</td>\n",
       "      <td>42.215000</td>\n",
       "      <td>1179.160000</td>\n",
       "      <td>378.000000</td>\n",
       "      <td>...</td>\n",
       "      <td>0.086163</td>\n",
       "      <td>44.311378</td>\n",
       "      <td>44.465000</td>\n",
       "      <td>21.090000</td>\n",
       "      <td>20.970000</td>\n",
       "      <td>1.000000</td>\n",
       "      <td>119.680000</td>\n",
       "      <td>5.000000</td>\n",
       "      <td>13.856000</td>\n",
       "      <td>0.000000</td>\n",
       "    </tr>\n",
       "    <tr>\n",
       "      <th>75%</th>\n",
       "      <td>NaN</td>\n",
       "      <td>5.022150e+04</td>\n",
       "      <td>0.000000e+00</td>\n",
       "      <td>4.127000e+03</td>\n",
       "      <td>396.185000</td>\n",
       "      <td>396.185000</td>\n",
       "      <td>4246.555000</td>\n",
       "      <td>228.117500</td>\n",
       "      <td>2692.077500</td>\n",
       "      <td>1994.250000</td>\n",
       "      <td>...</td>\n",
       "      <td>0.098837</td>\n",
       "      <td>44.311378</td>\n",
       "      <td>218.090000</td>\n",
       "      <td>29.640000</td>\n",
       "      <td>29.640000</td>\n",
       "      <td>1.000000</td>\n",
       "      <td>275.810000</td>\n",
       "      <td>6.000000</td>\n",
       "      <td>19.800000</td>\n",
       "      <td>0.000000</td>\n",
       "    </tr>\n",
       "    <tr>\n",
       "      <th>max</th>\n",
       "      <td>NaN</td>\n",
       "      <td>1.609711e+07</td>\n",
       "      <td>4.188440e+06</td>\n",
       "      <td>4.538720e+06</td>\n",
       "      <td>12566.080000</td>\n",
       "      <td>12566.080000</td>\n",
       "      <td>81122.630000</td>\n",
       "      <td>9682.890000</td>\n",
       "      <td>103801.930000</td>\n",
       "      <td>175375.000000</td>\n",
       "      <td>...</td>\n",
       "      <td>0.195975</td>\n",
       "      <td>59.444710</td>\n",
       "      <td>15042.790000</td>\n",
       "      <td>374.640000</td>\n",
       "      <td>374.640000</td>\n",
       "      <td>32.000000</td>\n",
       "      <td>24570.650000</td>\n",
       "      <td>16.000000</td>\n",
       "      <td>500.000000</td>\n",
       "      <td>1.000000</td>\n",
       "    </tr>\n",
       "  </tbody>\n",
       "</table>\n",
       "<p>8 rows × 23 columns</p>\n",
       "</div>"
      ],
      "text/plain": [
       "       campaign_disc_ele      cons_12m  cons_gas_12m  cons_last_month  \\\n",
       "count                0.0  1.609600e+04  1.609600e+04     1.609600e+04   \n",
       "mean                 NaN  1.948044e+05  3.191164e+04     1.946154e+04   \n",
       "std                  NaN  6.795151e+05  1.775885e+05     8.235676e+04   \n",
       "min                  NaN -1.252760e+05 -3.037000e+03    -9.138600e+04   \n",
       "25%                  NaN  5.906250e+03  0.000000e+00     0.000000e+00   \n",
       "50%                  NaN  1.533250e+04  0.000000e+00     9.010000e+02   \n",
       "75%                  NaN  5.022150e+04  0.000000e+00     4.127000e+03   \n",
       "max                  NaN  1.609711e+07  4.188440e+06     4.538720e+06   \n",
       "\n",
       "       forecast_base_bill_ele  forecast_base_bill_year  forecast_bill_12m  \\\n",
       "count             3508.000000              3508.000000        3508.000000   \n",
       "mean               335.843857               335.843857        3837.441866   \n",
       "std                649.406000               649.406000        5425.744327   \n",
       "min               -364.940000              -364.940000       -2503.480000   \n",
       "25%                  0.000000                 0.000000        1158.175000   \n",
       "50%                162.955000               162.955000        2187.230000   \n",
       "75%                396.185000               396.185000        4246.555000   \n",
       "max              12566.080000             12566.080000       81122.630000   \n",
       "\n",
       "       forecast_cons  forecast_cons_12m  forecast_cons_year  ...  \\\n",
       "count    3508.000000       16096.000000        16096.000000  ...   \n",
       "mean      206.845165        2370.555949         1907.347229  ...   \n",
       "std       455.634288        4035.085664         5257.364759  ...   \n",
       "min         0.000000      -16689.260000       -85627.000000  ...   \n",
       "25%         0.000000         513.230000            0.000000  ...   \n",
       "50%        42.215000        1179.160000          378.000000  ...   \n",
       "75%       228.117500        2692.077500         1994.250000  ...   \n",
       "max      9682.890000      103801.930000       175375.000000  ...   \n",
       "\n",
       "       forecast_price_energy_p2  forecast_price_pow_p1      imp_cons  \\\n",
       "count              15970.000000           15970.000000  16096.000000   \n",
       "mean                   0.052951              43.533496    196.123447   \n",
       "std                    0.048617               5.212252    494.366979   \n",
       "min                    0.000000              -0.122184  -9038.210000   \n",
       "25%                    0.000000              40.606701      0.000000   \n",
       "50%                    0.086163              44.311378     44.465000   \n",
       "75%                    0.098837              44.311378    218.090000   \n",
       "max                    0.195975              59.444710  15042.790000   \n",
       "\n",
       "       margin_gross_pow_ele  margin_net_pow_ele   nb_prod_act    net_margin  \\\n",
       "count          16083.000000        16083.000000  16096.000000  16081.000000   \n",
       "mean              22.462276           21.460318      1.347788    217.987028   \n",
       "std               23.700883           27.917349      1.459808    366.742030   \n",
       "min             -525.540000         -615.660000      1.000000  -4148.990000   \n",
       "25%               11.960000           11.950000      1.000000     51.970000   \n",
       "50%               21.090000           20.970000      1.000000    119.680000   \n",
       "75%               29.640000           29.640000      1.000000    275.810000   \n",
       "max              374.640000          374.640000     32.000000  24570.650000   \n",
       "\n",
       "       num_years_antig       pow_max         churn  \n",
       "count     16096.000000  16093.000000  16096.000000  \n",
       "mean          5.030629     20.604131      0.099093  \n",
       "std           1.676101     21.772421      0.298796  \n",
       "min           1.000000      1.000000      0.000000  \n",
       "25%           4.000000     12.500000      0.000000  \n",
       "50%           5.000000     13.856000      0.000000  \n",
       "75%           6.000000     19.800000      0.000000  \n",
       "max          16.000000    500.000000      1.000000  \n",
       "\n",
       "[8 rows x 23 columns]"
      ]
     },
     "execution_count": 9,
     "metadata": {},
     "output_type": "execute_result"
    }
   ],
   "source": [
    "df_train.describe()"
   ]
  },
  {
   "cell_type": "markdown",
   "metadata": {},
   "source": [
    "**compaign_disc_ele is empty column so remove it**"
   ]
  },
  {
   "cell_type": "code",
   "execution_count": 10,
   "metadata": {},
   "outputs": [],
   "source": [
    "del df_train[\"campaign_disc_ele\"]"
   ]
  },
  {
   "cell_type": "markdown",
   "metadata": {},
   "source": [
    "**Training Data History Statistics**"
   ]
  },
  {
   "cell_type": "code",
   "execution_count": 11,
   "metadata": {},
   "outputs": [
    {
     "data": {
      "text/html": [
       "<div>\n",
       "<style scoped>\n",
       "    .dataframe tbody tr th:only-of-type {\n",
       "        vertical-align: middle;\n",
       "    }\n",
       "\n",
       "    .dataframe tbody tr th {\n",
       "        vertical-align: top;\n",
       "    }\n",
       "\n",
       "    .dataframe thead th {\n",
       "        text-align: right;\n",
       "    }\n",
       "</style>\n",
       "<table border=\"1\" class=\"dataframe\">\n",
       "  <thead>\n",
       "    <tr style=\"text-align: right;\">\n",
       "      <th></th>\n",
       "      <th>price_p1_var</th>\n",
       "      <th>price_p2_var</th>\n",
       "      <th>price_p3_var</th>\n",
       "      <th>price_p1_fix</th>\n",
       "      <th>price_p2_fix</th>\n",
       "      <th>price_p3_fix</th>\n",
       "    </tr>\n",
       "  </thead>\n",
       "  <tbody>\n",
       "    <tr>\n",
       "      <th>count</th>\n",
       "      <td>95714.000000</td>\n",
       "      <td>95714.000000</td>\n",
       "      <td>95714.000000</td>\n",
       "      <td>95714.000000</td>\n",
       "      <td>95714.000000</td>\n",
       "      <td>95714.000000</td>\n",
       "    </tr>\n",
       "    <tr>\n",
       "      <th>mean</th>\n",
       "      <td>0.140986</td>\n",
       "      <td>0.053754</td>\n",
       "      <td>0.030574</td>\n",
       "      <td>43.359493</td>\n",
       "      <td>10.660692</td>\n",
       "      <td>6.414848</td>\n",
       "    </tr>\n",
       "    <tr>\n",
       "      <th>std</th>\n",
       "      <td>0.024946</td>\n",
       "      <td>0.050077</td>\n",
       "      <td>0.036327</td>\n",
       "      <td>5.428628</td>\n",
       "      <td>12.867572</td>\n",
       "      <td>7.768913</td>\n",
       "    </tr>\n",
       "    <tr>\n",
       "      <th>min</th>\n",
       "      <td>0.000000</td>\n",
       "      <td>0.000000</td>\n",
       "      <td>0.000000</td>\n",
       "      <td>-0.162916</td>\n",
       "      <td>-0.097749</td>\n",
       "      <td>-0.065166</td>\n",
       "    </tr>\n",
       "    <tr>\n",
       "      <th>25%</th>\n",
       "      <td>0.125976</td>\n",
       "      <td>0.000000</td>\n",
       "      <td>0.000000</td>\n",
       "      <td>40.728885</td>\n",
       "      <td>0.000000</td>\n",
       "      <td>0.000000</td>\n",
       "    </tr>\n",
       "    <tr>\n",
       "      <th>50%</th>\n",
       "      <td>0.146124</td>\n",
       "      <td>0.085058</td>\n",
       "      <td>0.000000</td>\n",
       "      <td>44.266930</td>\n",
       "      <td>0.000000</td>\n",
       "      <td>0.000000</td>\n",
       "    </tr>\n",
       "    <tr>\n",
       "      <th>75%</th>\n",
       "      <td>0.151635</td>\n",
       "      <td>0.101673</td>\n",
       "      <td>0.072612</td>\n",
       "      <td>44.444710</td>\n",
       "      <td>24.339581</td>\n",
       "      <td>16.226389</td>\n",
       "    </tr>\n",
       "    <tr>\n",
       "      <th>max</th>\n",
       "      <td>0.280700</td>\n",
       "      <td>0.181480</td>\n",
       "      <td>0.114102</td>\n",
       "      <td>59.444710</td>\n",
       "      <td>36.490692</td>\n",
       "      <td>17.458221</td>\n",
       "    </tr>\n",
       "  </tbody>\n",
       "</table>\n",
       "</div>"
      ],
      "text/plain": [
       "       price_p1_var  price_p2_var  price_p3_var  price_p1_fix  price_p2_fix  \\\n",
       "count  95714.000000  95714.000000  95714.000000  95714.000000  95714.000000   \n",
       "mean       0.140986      0.053754      0.030574     43.359493     10.660692   \n",
       "std        0.024946      0.050077      0.036327      5.428628     12.867572   \n",
       "min        0.000000      0.000000      0.000000     -0.162916     -0.097749   \n",
       "25%        0.125976      0.000000      0.000000     40.728885      0.000000   \n",
       "50%        0.146124      0.085058      0.000000     44.266930      0.000000   \n",
       "75%        0.151635      0.101673      0.072612     44.444710     24.339581   \n",
       "max        0.280700      0.181480      0.114102     59.444710     36.490692   \n",
       "\n",
       "       price_p3_fix  \n",
       "count  95714.000000  \n",
       "mean       6.414848  \n",
       "std        7.768913  \n",
       "min       -0.065166  \n",
       "25%        0.000000  \n",
       "50%        0.000000  \n",
       "75%       16.226389  \n",
       "max       17.458221  "
      ]
     },
     "execution_count": 11,
     "metadata": {},
     "output_type": "execute_result"
    }
   ],
   "source": [
    "# We might be a bit concerned about the negative values in the fix price column. One more time, this might be corruped data and we will change them to positive when cleaning the data.\n",
    "df_training_data_history.describe()"
   ]
  },
  {
   "cell_type": "markdown",
   "metadata": {},
   "source": [
    "### Missing Data"
   ]
  },
  {
   "cell_type": "code",
   "execution_count": 12,
   "metadata": {},
   "outputs": [
    {
     "data": {
      "text/html": [
       "<div>\n",
       "<style scoped>\n",
       "    .dataframe tbody tr th:only-of-type {\n",
       "        vertical-align: middle;\n",
       "    }\n",
       "\n",
       "    .dataframe tbody tr th {\n",
       "        vertical-align: top;\n",
       "    }\n",
       "\n",
       "    .dataframe thead th {\n",
       "        text-align: right;\n",
       "    }\n",
       "</style>\n",
       "<table border=\"1\" class=\"dataframe\">\n",
       "  <thead>\n",
       "    <tr style=\"text-align: right;\">\n",
       "      <th></th>\n",
       "      <th>Missing Data (%)</th>\n",
       "    </tr>\n",
       "  </thead>\n",
       "  <tbody>\n",
       "    <tr>\n",
       "      <th>id</th>\n",
       "      <td>0.000000</td>\n",
       "    </tr>\n",
       "    <tr>\n",
       "      <th>activity_new</th>\n",
       "      <td>59.300447</td>\n",
       "    </tr>\n",
       "    <tr>\n",
       "      <th>channel_sales</th>\n",
       "      <td>26.205268</td>\n",
       "    </tr>\n",
       "    <tr>\n",
       "      <th>cons_12m</th>\n",
       "      <td>0.000000</td>\n",
       "    </tr>\n",
       "    <tr>\n",
       "      <th>cons_gas_12m</th>\n",
       "      <td>0.000000</td>\n",
       "    </tr>\n",
       "    <tr>\n",
       "      <th>cons_last_month</th>\n",
       "      <td>0.000000</td>\n",
       "    </tr>\n",
       "    <tr>\n",
       "      <th>date_activ</th>\n",
       "      <td>0.000000</td>\n",
       "    </tr>\n",
       "    <tr>\n",
       "      <th>date_end</th>\n",
       "      <td>0.012425</td>\n",
       "    </tr>\n",
       "    <tr>\n",
       "      <th>date_first_activ</th>\n",
       "      <td>78.205765</td>\n",
       "    </tr>\n",
       "    <tr>\n",
       "      <th>date_modif_prod</th>\n",
       "      <td>0.975398</td>\n",
       "    </tr>\n",
       "    <tr>\n",
       "      <th>date_renewal</th>\n",
       "      <td>0.248509</td>\n",
       "    </tr>\n",
       "    <tr>\n",
       "      <th>forecast_base_bill_ele</th>\n",
       "      <td>78.205765</td>\n",
       "    </tr>\n",
       "    <tr>\n",
       "      <th>forecast_base_bill_year</th>\n",
       "      <td>78.205765</td>\n",
       "    </tr>\n",
       "    <tr>\n",
       "      <th>forecast_bill_12m</th>\n",
       "      <td>78.205765</td>\n",
       "    </tr>\n",
       "    <tr>\n",
       "      <th>forecast_cons</th>\n",
       "      <td>78.205765</td>\n",
       "    </tr>\n",
       "    <tr>\n",
       "      <th>forecast_cons_12m</th>\n",
       "      <td>0.000000</td>\n",
       "    </tr>\n",
       "    <tr>\n",
       "      <th>forecast_cons_year</th>\n",
       "      <td>0.000000</td>\n",
       "    </tr>\n",
       "    <tr>\n",
       "      <th>forecast_discount_energy</th>\n",
       "      <td>0.782803</td>\n",
       "    </tr>\n",
       "    <tr>\n",
       "      <th>forecast_meter_rent_12m</th>\n",
       "      <td>0.000000</td>\n",
       "    </tr>\n",
       "    <tr>\n",
       "      <th>forecast_price_energy_p1</th>\n",
       "      <td>0.782803</td>\n",
       "    </tr>\n",
       "    <tr>\n",
       "      <th>forecast_price_energy_p2</th>\n",
       "      <td>0.782803</td>\n",
       "    </tr>\n",
       "    <tr>\n",
       "      <th>forecast_price_pow_p1</th>\n",
       "      <td>0.782803</td>\n",
       "    </tr>\n",
       "    <tr>\n",
       "      <th>has_gas</th>\n",
       "      <td>0.000000</td>\n",
       "    </tr>\n",
       "    <tr>\n",
       "      <th>imp_cons</th>\n",
       "      <td>0.000000</td>\n",
       "    </tr>\n",
       "    <tr>\n",
       "      <th>margin_gross_pow_ele</th>\n",
       "      <td>0.080765</td>\n",
       "    </tr>\n",
       "    <tr>\n",
       "      <th>margin_net_pow_ele</th>\n",
       "      <td>0.080765</td>\n",
       "    </tr>\n",
       "    <tr>\n",
       "      <th>nb_prod_act</th>\n",
       "      <td>0.000000</td>\n",
       "    </tr>\n",
       "    <tr>\n",
       "      <th>net_margin</th>\n",
       "      <td>0.093191</td>\n",
       "    </tr>\n",
       "    <tr>\n",
       "      <th>num_years_antig</th>\n",
       "      <td>0.000000</td>\n",
       "    </tr>\n",
       "    <tr>\n",
       "      <th>origin_up</th>\n",
       "      <td>0.540507</td>\n",
       "    </tr>\n",
       "    <tr>\n",
       "      <th>pow_max</th>\n",
       "      <td>0.018638</td>\n",
       "    </tr>\n",
       "    <tr>\n",
       "      <th>churn</th>\n",
       "      <td>0.000000</td>\n",
       "    </tr>\n",
       "  </tbody>\n",
       "</table>\n",
       "</div>"
      ],
      "text/plain": [
       "                          Missing Data (%)\n",
       "id                                0.000000\n",
       "activity_new                     59.300447\n",
       "channel_sales                    26.205268\n",
       "cons_12m                          0.000000\n",
       "cons_gas_12m                      0.000000\n",
       "cons_last_month                   0.000000\n",
       "date_activ                        0.000000\n",
       "date_end                          0.012425\n",
       "date_first_activ                 78.205765\n",
       "date_modif_prod                   0.975398\n",
       "date_renewal                      0.248509\n",
       "forecast_base_bill_ele           78.205765\n",
       "forecast_base_bill_year          78.205765\n",
       "forecast_bill_12m                78.205765\n",
       "forecast_cons                    78.205765\n",
       "forecast_cons_12m                 0.000000\n",
       "forecast_cons_year                0.000000\n",
       "forecast_discount_energy          0.782803\n",
       "forecast_meter_rent_12m           0.000000\n",
       "forecast_price_energy_p1          0.782803\n",
       "forecast_price_energy_p2          0.782803\n",
       "forecast_price_pow_p1             0.782803\n",
       "has_gas                           0.000000\n",
       "imp_cons                          0.000000\n",
       "margin_gross_pow_ele              0.080765\n",
       "margin_net_pow_ele                0.080765\n",
       "nb_prod_act                       0.000000\n",
       "net_margin                        0.093191\n",
       "num_years_antig                   0.000000\n",
       "origin_up                         0.540507\n",
       "pow_max                           0.018638\n",
       "churn                             0.000000"
      ]
     },
     "execution_count": 12,
     "metadata": {},
     "output_type": "execute_result"
    }
   ],
   "source": [
    "# We are also concerned we have a lot of missing data so we can check how much of our data is missing. \n",
    "# Note: We've transformed the output to a dataframe to facilitate visualization. This will be used for data cleaning in the next exercise.\n",
    "\n",
    "pd.DataFrame({\"Missing Data (%)\": df_train.isnull().sum() / len(df_train.index) * 100})"
   ]
  },
  {
   "cell_type": "markdown",
   "metadata": {},
   "source": [
    "Some of the columns might need to be removed since they have more than 75% of the data missing"
   ]
  },
  {
   "cell_type": "code",
   "execution_count": 13,
   "metadata": {},
   "outputs": [
    {
     "data": {
      "text/html": [
       "<div>\n",
       "<style scoped>\n",
       "    .dataframe tbody tr th:only-of-type {\n",
       "        vertical-align: middle;\n",
       "    }\n",
       "\n",
       "    .dataframe tbody tr th {\n",
       "        vertical-align: top;\n",
       "    }\n",
       "\n",
       "    .dataframe thead th {\n",
       "        text-align: right;\n",
       "    }\n",
       "</style>\n",
       "<table border=\"1\" class=\"dataframe\">\n",
       "  <thead>\n",
       "    <tr style=\"text-align: right;\">\n",
       "      <th></th>\n",
       "      <th>Missing Data (%)</th>\n",
       "    </tr>\n",
       "  </thead>\n",
       "  <tbody>\n",
       "    <tr>\n",
       "      <th>id</th>\n",
       "      <td>0.000000</td>\n",
       "    </tr>\n",
       "    <tr>\n",
       "      <th>price_date</th>\n",
       "      <td>0.001037</td>\n",
       "    </tr>\n",
       "    <tr>\n",
       "      <th>price_p1_var</th>\n",
       "      <td>0.709558</td>\n",
       "    </tr>\n",
       "    <tr>\n",
       "      <th>price_p2_var</th>\n",
       "      <td>0.709558</td>\n",
       "    </tr>\n",
       "    <tr>\n",
       "      <th>price_p3_var</th>\n",
       "      <td>0.709558</td>\n",
       "    </tr>\n",
       "    <tr>\n",
       "      <th>price_p1_fix</th>\n",
       "      <td>0.709558</td>\n",
       "    </tr>\n",
       "    <tr>\n",
       "      <th>price_p2_fix</th>\n",
       "      <td>0.709558</td>\n",
       "    </tr>\n",
       "    <tr>\n",
       "      <th>price_p3_fix</th>\n",
       "      <td>0.709558</td>\n",
       "    </tr>\n",
       "  </tbody>\n",
       "</table>\n",
       "</div>"
      ],
      "text/plain": [
       "              Missing Data (%)\n",
       "id                    0.000000\n",
       "price_date            0.001037\n",
       "price_p1_var          0.709558\n",
       "price_p2_var          0.709558\n",
       "price_p3_var          0.709558\n",
       "price_p1_fix          0.709558\n",
       "price_p2_fix          0.709558\n",
       "price_p3_fix          0.709558"
      ]
     },
     "execution_count": 13,
     "metadata": {},
     "output_type": "execute_result"
    }
   ],
   "source": [
    "# Training Data History\n",
    "pd.DataFrame({\"Missing Data (%)\": df_training_data_history.isnull().sum() / len(df_training_data_history.index) * 100})"
   ]
  },
  {
   "cell_type": "markdown",
   "metadata": {},
   "source": [
    "### Data Visualization"
   ]
  },
  {
   "cell_type": "markdown",
   "metadata": {},
   "source": [
    "**Churn**"
   ]
  },
  {
   "cell_type": "code",
   "execution_count": 14,
   "metadata": {
    "scrolled": true
   },
   "outputs": [
    {
     "data": {
      "text/html": [
       "<div>\n",
       "<style scoped>\n",
       "    .dataframe tbody tr th:only-of-type {\n",
       "        vertical-align: middle;\n",
       "    }\n",
       "\n",
       "    .dataframe tbody tr th {\n",
       "        vertical-align: top;\n",
       "    }\n",
       "\n",
       "    .dataframe thead th {\n",
       "        text-align: right;\n",
       "    }\n",
       "</style>\n",
       "<table border=\"1\" class=\"dataframe\">\n",
       "  <thead>\n",
       "    <tr style=\"text-align: right;\">\n",
       "      <th></th>\n",
       "      <th>id</th>\n",
       "      <th>churn</th>\n",
       "    </tr>\n",
       "  </thead>\n",
       "  <tbody>\n",
       "    <tr>\n",
       "      <th>0</th>\n",
       "      <td>48ada52261e7cf58715202705a0451c9</td>\n",
       "      <td>0</td>\n",
       "    </tr>\n",
       "    <tr>\n",
       "      <th>1</th>\n",
       "      <td>24011ae4ebbe3035111d65fa7c15bc57</td>\n",
       "      <td>1</td>\n",
       "    </tr>\n",
       "    <tr>\n",
       "      <th>2</th>\n",
       "      <td>d29c2c54acc38ff3c0614d0a653813dd</td>\n",
       "      <td>0</td>\n",
       "    </tr>\n",
       "    <tr>\n",
       "      <th>3</th>\n",
       "      <td>764c75f661154dac3a6c254cd082ea7d</td>\n",
       "      <td>0</td>\n",
       "    </tr>\n",
       "    <tr>\n",
       "      <th>4</th>\n",
       "      <td>bba03439a292a1e166f80264c16191cb</td>\n",
       "      <td>0</td>\n",
       "    </tr>\n",
       "  </tbody>\n",
       "</table>\n",
       "</div>"
      ],
      "text/plain": [
       "                                 id  churn\n",
       "0  48ada52261e7cf58715202705a0451c9      0\n",
       "1  24011ae4ebbe3035111d65fa7c15bc57      1\n",
       "2  d29c2c54acc38ff3c0614d0a653813dd      0\n",
       "3  764c75f661154dac3a6c254cd082ea7d      0\n",
       "4  bba03439a292a1e166f80264c16191cb      0"
      ]
     },
     "execution_count": 14,
     "metadata": {},
     "output_type": "execute_result"
    }
   ],
   "source": [
    "churn = df_train[[\"id\", \"churn\"]]\n",
    "churn.head()"
   ]
  },
  {
   "cell_type": "markdown",
   "metadata": {},
   "source": [
    "**Rename Column for Visualization Purpose**"
   ]
  },
  {
   "cell_type": "code",
   "execution_count": 15,
   "metadata": {},
   "outputs": [],
   "source": [
    "churn.columns = [\"Companies\", \"Churn\"]"
   ]
  },
  {
   "cell_type": "code",
   "execution_count": 16,
   "metadata": {},
   "outputs": [],
   "source": [
    "def plot_stacked_bars(dataframe, title_, size_=(18, 10), rot_=0, legend_=\"upper right\"):\n",
    "    \"\"\"\n",
    "    Plot stacked bars with annotations\n",
    "    \"\"\"\n",
    "    ax = dataframe.plot(kind=\"bar\",stacked=True,figsize=size_, rot=rot_,title=title_)\n",
    "    # Annotate bars\n",
    "    annotate_stacked_bars(ax, textsize=14)\n",
    "    # Rename legend\n",
    "    plt.legend([\"Retention\", \"Churn\"], loc=legend_)\n",
    "    # Labels\n",
    "    plt.ylabel(\"Company base (%)\")\n",
    "    plt.show()\n",
    "\n",
    "def annotate_stacked_bars(ax, pad=0.99, colour=\"white\", textsize=13):\n",
    "    \n",
    "    \"\"\"\n",
    "    Add value annotations to the bars\n",
    "    \"\"\"\n",
    "    # Iterate over the plotted rectanges/bars\n",
    "    for p in ax.patches:\n",
    "    # Calculate annotation\n",
    "        value = str(round(p.get_height(),1))\n",
    "        # If value is 0 do not annotate\n",
    "        if value == '0.0':\n",
    "            continue\n",
    "        ax.annotate(value, ((p.get_x()+ p.get_width()/2)*pad-0.05, (p.get_y()+p.get_height()/2)*pad), color=colour, size=textsize,)"
   ]
  },
  {
   "cell_type": "code",
   "execution_count": 17,
   "metadata": {},
   "outputs": [
    {
     "data": {
      "text/html": [
       "<div>\n",
       "<style scoped>\n",
       "    .dataframe tbody tr th:only-of-type {\n",
       "        vertical-align: middle;\n",
       "    }\n",
       "\n",
       "    .dataframe tbody tr th {\n",
       "        vertical-align: top;\n",
       "    }\n",
       "\n",
       "    .dataframe thead th {\n",
       "        text-align: right;\n",
       "    }\n",
       "</style>\n",
       "<table border=\"1\" class=\"dataframe\">\n",
       "  <thead>\n",
       "    <tr style=\"text-align: right;\">\n",
       "      <th></th>\n",
       "      <th>Companies</th>\n",
       "    </tr>\n",
       "    <tr>\n",
       "      <th>Churn</th>\n",
       "      <th></th>\n",
       "    </tr>\n",
       "  </thead>\n",
       "  <tbody>\n",
       "    <tr>\n",
       "      <th>0</th>\n",
       "      <td>14501</td>\n",
       "    </tr>\n",
       "    <tr>\n",
       "      <th>1</th>\n",
       "      <td>1595</td>\n",
       "    </tr>\n",
       "  </tbody>\n",
       "</table>\n",
       "</div>"
      ],
      "text/plain": [
       "       Companies\n",
       "Churn           \n",
       "0          14501\n",
       "1           1595"
      ]
     },
     "execution_count": 17,
     "metadata": {},
     "output_type": "execute_result"
    }
   ],
   "source": [
    "# Total Retention and Churn\n",
    "churn_total = churn.groupby(churn[\"Churn\"]).count()\n",
    "churn_total"
   ]
  },
  {
   "cell_type": "code",
   "execution_count": 18,
   "metadata": {
    "scrolled": true
   },
   "outputs": [
    {
     "data": {
      "image/png": "[encoded data removed]",
      "text/plain": [
       "<Figure size 360x360 with 1 Axes>"
      ]
     },
     "metadata": {
      "needs_background": "light"
     },
     "output_type": "display_data"
    }
   ],
   "source": [
    "plot_stacked_bars(churn_total.T, \"Churning Status\", (5, 5), legend_ = \"lower right\")"
   ]
  },
  {
   "cell_type": "code",
   "execution_count": 19,
   "metadata": {},
   "outputs": [
    {
     "data": {
      "text/html": [
       "<div>\n",
       "<style scoped>\n",
       "    .dataframe tbody tr th:only-of-type {\n",
       "        vertical-align: middle;\n",
       "    }\n",
       "\n",
       "    .dataframe tbody tr th {\n",
       "        vertical-align: top;\n",
       "    }\n",
       "\n",
       "    .dataframe thead th {\n",
       "        text-align: right;\n",
       "    }\n",
       "</style>\n",
       "<table border=\"1\" class=\"dataframe\">\n",
       "  <thead>\n",
       "    <tr style=\"text-align: right;\">\n",
       "      <th></th>\n",
       "      <th>Companies</th>\n",
       "    </tr>\n",
       "    <tr>\n",
       "      <th>Churn</th>\n",
       "      <th></th>\n",
       "    </tr>\n",
       "  </thead>\n",
       "  <tbody>\n",
       "    <tr>\n",
       "      <th>0</th>\n",
       "      <td>90.090706</td>\n",
       "    </tr>\n",
       "    <tr>\n",
       "      <th>1</th>\n",
       "      <td>9.909294</td>\n",
       "    </tr>\n",
       "  </tbody>\n",
       "</table>\n",
       "</div>"
      ],
      "text/plain": [
       "       Companies\n",
       "Churn           \n",
       "0      90.090706\n",
       "1       9.909294"
      ]
     },
     "execution_count": 19,
     "metadata": {},
     "output_type": "execute_result"
    }
   ],
   "source": [
    "# Percentage of Retention and Churn\n",
    "churn_percentage = churn_total / churn_total.sum() * 100\n",
    "churn_percentage"
   ]
  },
  {
   "cell_type": "code",
   "execution_count": 20,
   "metadata": {},
   "outputs": [
    {
     "data": {
      "image/png": "[encoded data removed]",
      "text/plain": [
       "<Figure size 360x360 with 1 Axes>"
      ]
     },
     "metadata": {
      "needs_background": "light"
     },
     "output_type": "display_data"
    }
   ],
   "source": [
    "# Plot Stacked Bars\n",
    "plot_stacked_bars(churn_percentage.T, \"Churning Status\", (5, 5), legend_ = \"lower right\")"
   ]
  },
  {
   "cell_type": "markdown",
   "metadata": {},
   "source": [
    "About 10% of the of total customers have churned. (This sounds about right)"
   ]
  },
  {
   "cell_type": "markdown",
   "metadata": {},
   "source": [
    "### SME Activity"
   ]
  },
  {
   "cell_type": "markdown",
   "metadata": {},
   "source": [
    "Let's show the activity distribution of the companies as well as the sales channel. \n",
    "Intuitively this might be an important predictive feature for energy consumption"
   ]
  },
  {
   "cell_type": "code",
   "execution_count": 21,
   "metadata": {},
   "outputs": [
    {
     "data": {
      "text/html": [
       "<div>\n",
       "<style scoped>\n",
       "    .dataframe tbody tr th:only-of-type {\n",
       "        vertical-align: middle;\n",
       "    }\n",
       "\n",
       "    .dataframe tbody tr th {\n",
       "        vertical-align: top;\n",
       "    }\n",
       "\n",
       "    .dataframe thead th {\n",
       "        text-align: right;\n",
       "    }\n",
       "</style>\n",
       "<table border=\"1\" class=\"dataframe\">\n",
       "  <thead>\n",
       "    <tr style=\"text-align: right;\">\n",
       "      <th></th>\n",
       "      <th>id</th>\n",
       "      <th>activity_new</th>\n",
       "      <th>churn</th>\n",
       "    </tr>\n",
       "  </thead>\n",
       "  <tbody>\n",
       "    <tr>\n",
       "      <th>0</th>\n",
       "      <td>48ada52261e7cf58715202705a0451c9</td>\n",
       "      <td>esoiiifxdlbkcsluxmfuacbdckommixw</td>\n",
       "      <td>0</td>\n",
       "    </tr>\n",
       "    <tr>\n",
       "      <th>1</th>\n",
       "      <td>24011ae4ebbe3035111d65fa7c15bc57</td>\n",
       "      <td>NaN</td>\n",
       "      <td>1</td>\n",
       "    </tr>\n",
       "    <tr>\n",
       "      <th>2</th>\n",
       "      <td>d29c2c54acc38ff3c0614d0a653813dd</td>\n",
       "      <td>NaN</td>\n",
       "      <td>0</td>\n",
       "    </tr>\n",
       "    <tr>\n",
       "      <th>3</th>\n",
       "      <td>764c75f661154dac3a6c254cd082ea7d</td>\n",
       "      <td>NaN</td>\n",
       "      <td>0</td>\n",
       "    </tr>\n",
       "    <tr>\n",
       "      <th>4</th>\n",
       "      <td>bba03439a292a1e166f80264c16191cb</td>\n",
       "      <td>NaN</td>\n",
       "      <td>0</td>\n",
       "    </tr>\n",
       "  </tbody>\n",
       "</table>\n",
       "</div>"
      ],
      "text/plain": [
       "                                 id                      activity_new  churn\n",
       "0  48ada52261e7cf58715202705a0451c9  esoiiifxdlbkcsluxmfuacbdckommixw      0\n",
       "1  24011ae4ebbe3035111d65fa7c15bc57                               NaN      1\n",
       "2  d29c2c54acc38ff3c0614d0a653813dd                               NaN      0\n",
       "3  764c75f661154dac3a6c254cd082ea7d                               NaN      0\n",
       "4  bba03439a292a1e166f80264c16191cb                               NaN      0"
      ]
     },
     "execution_count": 21,
     "metadata": {},
     "output_type": "execute_result"
    }
   ],
   "source": [
    "activity = df_train[[\"id\", \"activity_new\", \"churn\"]]\n",
    "activity.head()"
   ]
  },
  {
   "cell_type": "code",
   "execution_count": 22,
   "metadata": {},
   "outputs": [],
   "source": [
    "activity = activity.groupby([activity[\"activity_new\"], activity[\"churn\"]])[\"id\"].count().unstack(level=1).sort_values(by=[0], ascending=False)"
   ]
  },
  {
   "cell_type": "code",
   "execution_count": 23,
   "metadata": {},
   "outputs": [
    {
     "data": {
      "text/html": [
       "<div>\n",
       "<style scoped>\n",
       "    .dataframe tbody tr th:only-of-type {\n",
       "        vertical-align: middle;\n",
       "    }\n",
       "\n",
       "    .dataframe tbody tr th {\n",
       "        vertical-align: top;\n",
       "    }\n",
       "\n",
       "    .dataframe thead th {\n",
       "        text-align: right;\n",
       "    }\n",
       "</style>\n",
       "<table border=\"1\" class=\"dataframe\">\n",
       "  <thead>\n",
       "    <tr style=\"text-align: right;\">\n",
       "      <th>churn</th>\n",
       "      <th>0</th>\n",
       "      <th>1</th>\n",
       "    </tr>\n",
       "    <tr>\n",
       "      <th>activity_new</th>\n",
       "      <th></th>\n",
       "      <th></th>\n",
       "    </tr>\n",
       "  </thead>\n",
       "  <tbody>\n",
       "    <tr>\n",
       "      <th>apdekpcbwosbxepsfxclislboipuxpop</th>\n",
       "      <td>1484.0</td>\n",
       "      <td>93.0</td>\n",
       "    </tr>\n",
       "    <tr>\n",
       "      <th>kkklcdamwfafdcfwofuscwfwadblfmce</th>\n",
       "      <td>384.0</td>\n",
       "      <td>38.0</td>\n",
       "    </tr>\n",
       "    <tr>\n",
       "      <th>kwuslieomapmswolewpobpplkaooaaew</th>\n",
       "      <td>200.0</td>\n",
       "      <td>30.0</td>\n",
       "    </tr>\n",
       "    <tr>\n",
       "      <th>fmwdwsxillemwbbwelxsampiuwwpcdcb</th>\n",
       "      <td>187.0</td>\n",
       "      <td>32.0</td>\n",
       "    </tr>\n",
       "    <tr>\n",
       "      <th>ckfxocssowaeipxueikxcmaxdmcduxsa</th>\n",
       "      <td>176.0</td>\n",
       "      <td>13.0</td>\n",
       "    </tr>\n",
       "  </tbody>\n",
       "</table>\n",
       "</div>"
      ],
      "text/plain": [
       "churn                                  0     1\n",
       "activity_new                                  \n",
       "apdekpcbwosbxepsfxclislboipuxpop  1484.0  93.0\n",
       "kkklcdamwfafdcfwofuscwfwadblfmce   384.0  38.0\n",
       "kwuslieomapmswolewpobpplkaooaaew   200.0  30.0\n",
       "fmwdwsxillemwbbwelxsampiuwwpcdcb   187.0  32.0\n",
       "ckfxocssowaeipxueikxcmaxdmcduxsa   176.0  13.0"
      ]
     },
     "execution_count": 23,
     "metadata": {},
     "output_type": "execute_result"
    }
   ],
   "source": [
    "activity.head()"
   ]
  },
  {
   "cell_type": "code",
   "execution_count": 24,
   "metadata": {},
   "outputs": [
    {
     "data": {
      "image/png": "[encoded data removed]",
      "text/plain": [
       "<Figure size 1296x720 with 1 Axes>"
      ]
     },
     "metadata": {
      "needs_background": "light"
     },
     "output_type": "display_data"
    }
   ],
   "source": [
    "activity.plot(kind = \"bar\", figsize = (18, 10), width = 2, stacked = True, title = \"SME Activity\")\n",
    "plt.ylabel(\"Number of companies\")\n",
    "plt.xlabel(\"Activity\")\n",
    "plt.legend([\"Retention\", \"Churn\"], loc = \"upper right\")\n",
    "plt.xticks([])\n",
    "plt.show()"
   ]
  },
  {
   "cell_type": "raw",
   "metadata": {},
   "source": [
    "The distribution of the classes over the labeled data despite the lack of 60% of the entries.\n",
    "We see churn is not specifically related to any SME cateogry in particular. \n",
    "\n",
    "Note: Not showing the labels in the x-axis to facilitate visualization \n",
    "If we take a look at the values percentage-wise"
   ]
  },
  {
   "cell_type": "code",
   "execution_count": 25,
   "metadata": {},
   "outputs": [
    {
     "data": {
      "text/html": [
       "<div>\n",
       "<style scoped>\n",
       "    .dataframe tbody tr th:only-of-type {\n",
       "        vertical-align: middle;\n",
       "    }\n",
       "\n",
       "    .dataframe tbody tr th {\n",
       "        vertical-align: top;\n",
       "    }\n",
       "\n",
       "    .dataframe thead th {\n",
       "        text-align: right;\n",
       "    }\n",
       "</style>\n",
       "<table border=\"1\" class=\"dataframe\">\n",
       "  <thead>\n",
       "    <tr style=\"text-align: right;\">\n",
       "      <th></th>\n",
       "      <th>Percentage Churn</th>\n",
       "      <th>Total Companies</th>\n",
       "    </tr>\n",
       "    <tr>\n",
       "      <th>activity_new</th>\n",
       "      <th></th>\n",
       "      <th></th>\n",
       "    </tr>\n",
       "  </thead>\n",
       "  <tbody>\n",
       "    <tr>\n",
       "      <th>xwkaesbkfsacseixxksofpddwfkbobki</th>\n",
       "      <td>100.000000</td>\n",
       "      <td>1.0</td>\n",
       "    </tr>\n",
       "    <tr>\n",
       "      <th>wkwdccuiboaeaalcaawlwmldiwmpewma</th>\n",
       "      <td>100.000000</td>\n",
       "      <td>1.0</td>\n",
       "    </tr>\n",
       "    <tr>\n",
       "      <th>ikiucmkuisupefxcxfxxulkpwssppfuo</th>\n",
       "      <td>100.000000</td>\n",
       "      <td>1.0</td>\n",
       "    </tr>\n",
       "    <tr>\n",
       "      <th>opoiuuwdmxdssidluooopfswlkkkcsxf</th>\n",
       "      <td>100.000000</td>\n",
       "      <td>1.0</td>\n",
       "    </tr>\n",
       "    <tr>\n",
       "      <th>pfcocskbxlmofswiflsbcefcpufbopuo</th>\n",
       "      <td>100.000000</td>\n",
       "      <td>2.0</td>\n",
       "    </tr>\n",
       "    <tr>\n",
       "      <th>oeacexidmflusdkwuuicmpiaklkxulxm</th>\n",
       "      <td>100.000000</td>\n",
       "      <td>1.0</td>\n",
       "    </tr>\n",
       "    <tr>\n",
       "      <th>wceaopxmdpccxfmcdpopulcaubcxibuw</th>\n",
       "      <td>100.000000</td>\n",
       "      <td>1.0</td>\n",
       "    </tr>\n",
       "    <tr>\n",
       "      <th>kmlwkmxoocpieebifumobckeafmidpxf</th>\n",
       "      <td>100.000000</td>\n",
       "      <td>1.0</td>\n",
       "    </tr>\n",
       "    <tr>\n",
       "      <th>cwouwoubfifoafkxifokoidcuoamebea</th>\n",
       "      <td>66.666667</td>\n",
       "      <td>3.0</td>\n",
       "    </tr>\n",
       "    <tr>\n",
       "      <th>wfiuolfffsekuoimxdsasfwcmwssewoi</th>\n",
       "      <td>50.000000</td>\n",
       "      <td>4.0</td>\n",
       "    </tr>\n",
       "  </tbody>\n",
       "</table>\n",
       "</div>"
      ],
      "text/plain": [
       "                                  Percentage Churn  Total Companies\n",
       "activity_new                                                       \n",
       "xwkaesbkfsacseixxksofpddwfkbobki        100.000000              1.0\n",
       "wkwdccuiboaeaalcaawlwmldiwmpewma        100.000000              1.0\n",
       "ikiucmkuisupefxcxfxxulkpwssppfuo        100.000000              1.0\n",
       "opoiuuwdmxdssidluooopfswlkkkcsxf        100.000000              1.0\n",
       "pfcocskbxlmofswiflsbcefcpufbopuo        100.000000              2.0\n",
       "oeacexidmflusdkwuuicmpiaklkxulxm        100.000000              1.0\n",
       "wceaopxmdpccxfmcdpopulcaubcxibuw        100.000000              1.0\n",
       "kmlwkmxoocpieebifumobckeafmidpxf        100.000000              1.0\n",
       "cwouwoubfifoafkxifokoidcuoamebea         66.666667              3.0\n",
       "wfiuolfffsekuoimxdsasfwcmwssewoi         50.000000              4.0"
      ]
     },
     "execution_count": 25,
     "metadata": {},
     "output_type": "execute_result"
    }
   ],
   "source": [
    "activity_total = activity.fillna(0)[0] + activity.fillna(0)[1]\n",
    "activity_percentage = activity.fillna(0)[1] / (activity_total) * 100\n",
    "pd.DataFrame({\"Percentage Churn\": activity_percentage, \"Total Companies\": activity_total}).sort_values(by = \"Percentage Churn\", ascending = False).head(10)"
   ]
  },
  {
   "cell_type": "markdown",
   "metadata": {},
   "source": [
    "**How will the SME activity influence our predictive model?**"
   ]
  },
  {
   "cell_type": "markdown",
   "metadata": {},
   "source": [
    "Our predictive model is likely to struggle accurately predicting the the SME activity due to the large number of categories and low number of companies belonging to each category."
   ]
  },
  {
   "cell_type": "markdown",
   "metadata": {},
   "source": [
    "### Sales Channel"
   ]
  },
  {
   "cell_type": "markdown",
   "metadata": {},
   "source": [
    "The sales channel seems to be an important feature when predecting the churning of a user. It is not the same if the sales were through email or telephone."
   ]
  },
  {
   "cell_type": "code",
   "execution_count": 26,
   "metadata": {
    "scrolled": false
   },
   "outputs": [
    {
     "data": {
      "text/html": [
       "<div>\n",
       "<style scoped>\n",
       "    .dataframe tbody tr th:only-of-type {\n",
       "        vertical-align: middle;\n",
       "    }\n",
       "\n",
       "    .dataframe tbody tr th {\n",
       "        vertical-align: top;\n",
       "    }\n",
       "\n",
       "    .dataframe thead th {\n",
       "        text-align: right;\n",
       "    }\n",
       "</style>\n",
       "<table border=\"1\" class=\"dataframe\">\n",
       "  <thead>\n",
       "    <tr style=\"text-align: right;\">\n",
       "      <th></th>\n",
       "      <th>id</th>\n",
       "      <th>channel_sales</th>\n",
       "      <th>churn</th>\n",
       "    </tr>\n",
       "  </thead>\n",
       "  <tbody>\n",
       "    <tr>\n",
       "      <th>0</th>\n",
       "      <td>48ada52261e7cf58715202705a0451c9</td>\n",
       "      <td>lmkebamcaaclubfxadlmueccxoimlema</td>\n",
       "      <td>0</td>\n",
       "    </tr>\n",
       "    <tr>\n",
       "      <th>1</th>\n",
       "      <td>24011ae4ebbe3035111d65fa7c15bc57</td>\n",
       "      <td>foosdfpfkusacimwkcsosbicdxkicaua</td>\n",
       "      <td>1</td>\n",
       "    </tr>\n",
       "    <tr>\n",
       "      <th>2</th>\n",
       "      <td>d29c2c54acc38ff3c0614d0a653813dd</td>\n",
       "      <td>NaN</td>\n",
       "      <td>0</td>\n",
       "    </tr>\n",
       "    <tr>\n",
       "      <th>3</th>\n",
       "      <td>764c75f661154dac3a6c254cd082ea7d</td>\n",
       "      <td>foosdfpfkusacimwkcsosbicdxkicaua</td>\n",
       "      <td>0</td>\n",
       "    </tr>\n",
       "    <tr>\n",
       "      <th>4</th>\n",
       "      <td>bba03439a292a1e166f80264c16191cb</td>\n",
       "      <td>lmkebamcaaclubfxadlmueccxoimlema</td>\n",
       "      <td>0</td>\n",
       "    </tr>\n",
       "  </tbody>\n",
       "</table>\n",
       "</div>"
      ],
      "text/plain": [
       "                                 id                     channel_sales  churn\n",
       "0  48ada52261e7cf58715202705a0451c9  lmkebamcaaclubfxadlmueccxoimlema      0\n",
       "1  24011ae4ebbe3035111d65fa7c15bc57  foosdfpfkusacimwkcsosbicdxkicaua      1\n",
       "2  d29c2c54acc38ff3c0614d0a653813dd                               NaN      0\n",
       "3  764c75f661154dac3a6c254cd082ea7d  foosdfpfkusacimwkcsosbicdxkicaua      0\n",
       "4  bba03439a292a1e166f80264c16191cb  lmkebamcaaclubfxadlmueccxoimlema      0"
      ]
     },
     "execution_count": 26,
     "metadata": {},
     "output_type": "execute_result"
    }
   ],
   "source": [
    "channel = df_train[[\"id\", \"channel_sales\", \"churn\"]]\n",
    "channel.head()"
   ]
  },
  {
   "cell_type": "code",
   "execution_count": 27,
   "metadata": {},
   "outputs": [
    {
     "data": {
      "text/html": [
       "<div>\n",
       "<style scoped>\n",
       "    .dataframe tbody tr th:only-of-type {\n",
       "        vertical-align: middle;\n",
       "    }\n",
       "\n",
       "    .dataframe tbody tr th {\n",
       "        vertical-align: top;\n",
       "    }\n",
       "\n",
       "    .dataframe thead th {\n",
       "        text-align: right;\n",
       "    }\n",
       "</style>\n",
       "<table border=\"1\" class=\"dataframe\">\n",
       "  <thead>\n",
       "    <tr style=\"text-align: right;\">\n",
       "      <th>churn</th>\n",
       "      <th>0</th>\n",
       "      <th>1</th>\n",
       "    </tr>\n",
       "    <tr>\n",
       "      <th>channel_sales</th>\n",
       "      <th></th>\n",
       "      <th></th>\n",
       "    </tr>\n",
       "  </thead>\n",
       "  <tbody>\n",
       "    <tr>\n",
       "      <th>epumfxlbckeskwekxbiuasklxalciiuu</th>\n",
       "      <td>4.0</td>\n",
       "      <td>0.0</td>\n",
       "    </tr>\n",
       "    <tr>\n",
       "      <th>ewpakwlliwisiwduibdlfmalxowmwpci</th>\n",
       "      <td>884.0</td>\n",
       "      <td>82.0</td>\n",
       "    </tr>\n",
       "    <tr>\n",
       "      <th>fixdbufsefwooaasfcxdxadsiekoceaa</th>\n",
       "      <td>2.0</td>\n",
       "      <td>0.0</td>\n",
       "    </tr>\n",
       "    <tr>\n",
       "      <th>foosdfpfkusacimwkcsosbicdxkicaua</th>\n",
       "      <td>6455.0</td>\n",
       "      <td>922.0</td>\n",
       "    </tr>\n",
       "    <tr>\n",
       "      <th>lmkebamcaaclubfxadlmueccxoimlema</th>\n",
       "      <td>1957.0</td>\n",
       "      <td>116.0</td>\n",
       "    </tr>\n",
       "  </tbody>\n",
       "</table>\n",
       "</div>"
      ],
      "text/plain": [
       "churn                                  0      1\n",
       "channel_sales                                  \n",
       "epumfxlbckeskwekxbiuasklxalciiuu     4.0    0.0\n",
       "ewpakwlliwisiwduibdlfmalxowmwpci   884.0   82.0\n",
       "fixdbufsefwooaasfcxdxadsiekoceaa     2.0    0.0\n",
       "foosdfpfkusacimwkcsosbicdxkicaua  6455.0  922.0\n",
       "lmkebamcaaclubfxadlmueccxoimlema  1957.0  116.0"
      ]
     },
     "execution_count": 27,
     "metadata": {},
     "output_type": "execute_result"
    }
   ],
   "source": [
    "channel = channel.groupby([channel[\"channel_sales\"], channel[\"churn\"]])[\"id\"].count().unstack(level = 1).fillna(0)\n",
    "channel.head()"
   ]
  },
  {
   "cell_type": "code",
   "execution_count": 28,
   "metadata": {},
   "outputs": [
    {
     "data": {
      "text/html": [
       "<div>\n",
       "<style scoped>\n",
       "    .dataframe tbody tr th:only-of-type {\n",
       "        vertical-align: middle;\n",
       "    }\n",
       "\n",
       "    .dataframe tbody tr th {\n",
       "        vertical-align: top;\n",
       "    }\n",
       "\n",
       "    .dataframe thead th {\n",
       "        text-align: right;\n",
       "    }\n",
       "</style>\n",
       "<table border=\"1\" class=\"dataframe\">\n",
       "  <thead>\n",
       "    <tr style=\"text-align: right;\">\n",
       "      <th>churn</th>\n",
       "      <th>0</th>\n",
       "      <th>1</th>\n",
       "    </tr>\n",
       "    <tr>\n",
       "      <th>channel_sales</th>\n",
       "      <th></th>\n",
       "      <th></th>\n",
       "    </tr>\n",
       "  </thead>\n",
       "  <tbody>\n",
       "    <tr>\n",
       "      <th>foosdfpfkusacimwkcsosbicdxkicaua</th>\n",
       "      <td>87.501694</td>\n",
       "      <td>12.498306</td>\n",
       "    </tr>\n",
       "    <tr>\n",
       "      <th>usilxuppasemubllopkaafesmlibmsdf</th>\n",
       "      <td>89.612188</td>\n",
       "      <td>10.387812</td>\n",
       "    </tr>\n",
       "    <tr>\n",
       "      <th>ewpakwlliwisiwduibdlfmalxowmwpci</th>\n",
       "      <td>91.511387</td>\n",
       "      <td>8.488613</td>\n",
       "    </tr>\n",
       "    <tr>\n",
       "      <th>lmkebamcaaclubfxadlmueccxoimlema</th>\n",
       "      <td>94.404245</td>\n",
       "      <td>5.595755</td>\n",
       "    </tr>\n",
       "    <tr>\n",
       "      <th>epumfxlbckeskwekxbiuasklxalciiuu</th>\n",
       "      <td>100.000000</td>\n",
       "      <td>0.000000</td>\n",
       "    </tr>\n",
       "    <tr>\n",
       "      <th>fixdbufsefwooaasfcxdxadsiekoceaa</th>\n",
       "      <td>100.000000</td>\n",
       "      <td>0.000000</td>\n",
       "    </tr>\n",
       "    <tr>\n",
       "      <th>sddiedcslfslkckwlfkdpoeeailfpeds</th>\n",
       "      <td>100.000000</td>\n",
       "      <td>0.000000</td>\n",
       "    </tr>\n",
       "  </tbody>\n",
       "</table>\n",
       "</div>"
      ],
      "text/plain": [
       "churn                                      0          1\n",
       "channel_sales                                          \n",
       "foosdfpfkusacimwkcsosbicdxkicaua   87.501694  12.498306\n",
       "usilxuppasemubllopkaafesmlibmsdf   89.612188  10.387812\n",
       "ewpakwlliwisiwduibdlfmalxowmwpci   91.511387   8.488613\n",
       "lmkebamcaaclubfxadlmueccxoimlema   94.404245   5.595755\n",
       "epumfxlbckeskwekxbiuasklxalciiuu  100.000000   0.000000\n",
       "fixdbufsefwooaasfcxdxadsiekoceaa  100.000000   0.000000\n",
       "sddiedcslfslkckwlfkdpoeeailfpeds  100.000000   0.000000"
      ]
     },
     "execution_count": 28,
     "metadata": {},
     "output_type": "execute_result"
    }
   ],
   "source": [
    "channel_churn = (channel.div(channel.sum(axis = 1), axis = 0)*100).sort_values(by = [1], ascending = False)\n",
    "channel_churn"
   ]
  },
  {
   "cell_type": "markdown",
   "metadata": {},
   "source": [
    "We will plot the categories, despite the fact that data is available for only 75% of the dataset."
   ]
  },
  {
   "cell_type": "code",
   "execution_count": 29,
   "metadata": {},
   "outputs": [
    {
     "data": {
      "image/png": "[encoded data removed]",
      "text/plain": [
       "<Figure size 1296x720 with 1 Axes>"
      ]
     },
     "metadata": {
      "needs_background": "light"
     },
     "output_type": "display_data"
    }
   ],
   "source": [
    "plot_stacked_bars(channel_churn, \"Sales Channel\", rot_ = 30)"
   ]
  },
  {
   "cell_type": "markdown",
   "metadata": {},
   "source": [
    "Nothing out of the normal form this graph above. \n",
    "If we look at it percentage-wise"
   ]
  },
  {
   "cell_type": "code",
   "execution_count": 30,
   "metadata": {},
   "outputs": [
    {
     "data": {
      "text/html": [
       "<div>\n",
       "<style scoped>\n",
       "    .dataframe tbody tr th:only-of-type {\n",
       "        vertical-align: middle;\n",
       "    }\n",
       "\n",
       "    .dataframe tbody tr th {\n",
       "        vertical-align: top;\n",
       "    }\n",
       "\n",
       "    .dataframe thead th {\n",
       "        text-align: right;\n",
       "    }\n",
       "</style>\n",
       "<table border=\"1\" class=\"dataframe\">\n",
       "  <thead>\n",
       "    <tr style=\"text-align: right;\">\n",
       "      <th></th>\n",
       "      <th>Churn Percentage</th>\n",
       "      <th>Total Companies</th>\n",
       "    </tr>\n",
       "    <tr>\n",
       "      <th>channel_sales</th>\n",
       "      <th></th>\n",
       "      <th></th>\n",
       "    </tr>\n",
       "  </thead>\n",
       "  <tbody>\n",
       "    <tr>\n",
       "      <th>foosdfpfkusacimwkcsosbicdxkicaua</th>\n",
       "      <td>12.498306</td>\n",
       "      <td>7377.0</td>\n",
       "    </tr>\n",
       "    <tr>\n",
       "      <th>usilxuppasemubllopkaafesmlibmsdf</th>\n",
       "      <td>10.387812</td>\n",
       "      <td>1444.0</td>\n",
       "    </tr>\n",
       "    <tr>\n",
       "      <th>ewpakwlliwisiwduibdlfmalxowmwpci</th>\n",
       "      <td>8.488613</td>\n",
       "      <td>966.0</td>\n",
       "    </tr>\n",
       "    <tr>\n",
       "      <th>lmkebamcaaclubfxadlmueccxoimlema</th>\n",
       "      <td>5.595755</td>\n",
       "      <td>2073.0</td>\n",
       "    </tr>\n",
       "    <tr>\n",
       "      <th>epumfxlbckeskwekxbiuasklxalciiuu</th>\n",
       "      <td>0.000000</td>\n",
       "      <td>4.0</td>\n",
       "    </tr>\n",
       "  </tbody>\n",
       "</table>\n",
       "</div>"
      ],
      "text/plain": [
       "                                  Churn Percentage  Total Companies\n",
       "channel_sales                                                      \n",
       "foosdfpfkusacimwkcsosbicdxkicaua         12.498306           7377.0\n",
       "usilxuppasemubllopkaafesmlibmsdf         10.387812           1444.0\n",
       "ewpakwlliwisiwduibdlfmalxowmwpci          8.488613            966.0\n",
       "lmkebamcaaclubfxadlmueccxoimlema          5.595755           2073.0\n",
       "epumfxlbckeskwekxbiuasklxalciiuu          0.000000              4.0"
      ]
     },
     "execution_count": 30,
     "metadata": {},
     "output_type": "execute_result"
    }
   ],
   "source": [
    "channel_total = channel.fillna(0)[0] + channel.fillna(0)[1]\n",
    "channel_percentage = (channel.fillna(0)[1] / channel_total) * 100\n",
    "pd.DataFrame({\"Churn Percentage\": channel_percentage, \"Total Companies\": channel_total}).sort_values(by = \"Churn Percentage\", ascending = False).head()"
   ]
  },
  {
   "cell_type": "markdown",
   "metadata": {},
   "source": [
    "### Consumption"
   ]
  },
  {
   "cell_type": "markdown",
   "metadata": {},
   "source": [
    "Let's see the distribution of the consumption over the last year and last month"
   ]
  },
  {
   "cell_type": "code",
   "execution_count": 31,
   "metadata": {},
   "outputs": [
    {
     "data": {
      "text/html": [
       "<div>\n",
       "<style scoped>\n",
       "    .dataframe tbody tr th:only-of-type {\n",
       "        vertical-align: middle;\n",
       "    }\n",
       "\n",
       "    .dataframe tbody tr th {\n",
       "        vertical-align: top;\n",
       "    }\n",
       "\n",
       "    .dataframe thead th {\n",
       "        text-align: right;\n",
       "    }\n",
       "</style>\n",
       "<table border=\"1\" class=\"dataframe\">\n",
       "  <thead>\n",
       "    <tr style=\"text-align: right;\">\n",
       "      <th></th>\n",
       "      <th>id</th>\n",
       "      <th>cons_12m</th>\n",
       "      <th>cons_gas_12m</th>\n",
       "      <th>cons_last_month</th>\n",
       "      <th>imp_cons</th>\n",
       "      <th>has_gas</th>\n",
       "      <th>churn</th>\n",
       "    </tr>\n",
       "  </thead>\n",
       "  <tbody>\n",
       "    <tr>\n",
       "      <th>0</th>\n",
       "      <td>48ada52261e7cf58715202705a0451c9</td>\n",
       "      <td>309275</td>\n",
       "      <td>0</td>\n",
       "      <td>10025</td>\n",
       "      <td>831.8</td>\n",
       "      <td>f</td>\n",
       "      <td>0</td>\n",
       "    </tr>\n",
       "    <tr>\n",
       "      <th>1</th>\n",
       "      <td>24011ae4ebbe3035111d65fa7c15bc57</td>\n",
       "      <td>0</td>\n",
       "      <td>54946</td>\n",
       "      <td>0</td>\n",
       "      <td>0.0</td>\n",
       "      <td>t</td>\n",
       "      <td>1</td>\n",
       "    </tr>\n",
       "    <tr>\n",
       "      <th>2</th>\n",
       "      <td>d29c2c54acc38ff3c0614d0a653813dd</td>\n",
       "      <td>4660</td>\n",
       "      <td>0</td>\n",
       "      <td>0</td>\n",
       "      <td>0.0</td>\n",
       "      <td>f</td>\n",
       "      <td>0</td>\n",
       "    </tr>\n",
       "    <tr>\n",
       "      <th>3</th>\n",
       "      <td>764c75f661154dac3a6c254cd082ea7d</td>\n",
       "      <td>544</td>\n",
       "      <td>0</td>\n",
       "      <td>0</td>\n",
       "      <td>0.0</td>\n",
       "      <td>f</td>\n",
       "      <td>0</td>\n",
       "    </tr>\n",
       "    <tr>\n",
       "      <th>4</th>\n",
       "      <td>bba03439a292a1e166f80264c16191cb</td>\n",
       "      <td>1584</td>\n",
       "      <td>0</td>\n",
       "      <td>0</td>\n",
       "      <td>0.0</td>\n",
       "      <td>f</td>\n",
       "      <td>0</td>\n",
       "    </tr>\n",
       "  </tbody>\n",
       "</table>\n",
       "</div>"
      ],
      "text/plain": [
       "                                 id  cons_12m  cons_gas_12m  cons_last_month  \\\n",
       "0  48ada52261e7cf58715202705a0451c9    309275             0            10025   \n",
       "1  24011ae4ebbe3035111d65fa7c15bc57         0         54946                0   \n",
       "2  d29c2c54acc38ff3c0614d0a653813dd      4660             0                0   \n",
       "3  764c75f661154dac3a6c254cd082ea7d       544             0                0   \n",
       "4  bba03439a292a1e166f80264c16191cb      1584             0                0   \n",
       "\n",
       "   imp_cons has_gas  churn  \n",
       "0     831.8       f      0  \n",
       "1       0.0       t      1  \n",
       "2       0.0       f      0  \n",
       "3       0.0       f      0  \n",
       "4       0.0       f      0  "
      ]
     },
     "execution_count": 31,
     "metadata": {},
     "output_type": "execute_result"
    }
   ],
   "source": [
    "consumption = df_train[[\"id\", \"cons_12m\", \"cons_gas_12m\", \"cons_last_month\", \"imp_cons\", \"has_gas\", \"churn\"]]\n",
    "consumption.head()"
   ]
  },
  {
   "cell_type": "markdown",
   "metadata": {},
   "source": [
    "The most straight forward to visualise and identify the distribution of uni-variate data is through histograms"
   ]
  },
  {
   "cell_type": "code",
   "execution_count": 32,
   "metadata": {},
   "outputs": [],
   "source": [
    "def plot_distribution(dataframe, column, ax, bins = 50):\n",
    "    temp = pd.DataFrame({\"Retention\": dataframe[dataframe[\"churn\"] == 0][column],\n",
    "                         \"Churn\": dataframe[dataframe[\"churn\"] == 1][column]})\n",
    "    temp[[\"Retention\", \"Churn\"]].plot(kind = \"hist\", bins = bins, ax = ax, stacked = True)\n",
    "    ax.set_xlabel(column)\n",
    "    ax.ticklabel_format(style = \"plain\", axis = \"x\")"
   ]
  },
  {
   "cell_type": "code",
   "execution_count": 33,
   "metadata": {},
   "outputs": [
    {
     "data": {
      "image/png": "[encoded data removed]",
      "text/plain": [
       "<Figure size 1296x1800 with 4 Axes>"
      ]
     },
     "metadata": {
      "needs_background": "light"
     },
     "output_type": "display_data"
    }
   ],
   "source": [
    "fig, axs = plt.subplots(nrows = 4, figsize = (18, 25))\n",
    "plot_distribution(consumption, \"cons_12m\", axs[0])\n",
    "# Note that the gas consumption must have gas contract\n",
    "plot_distribution(consumption[consumption[\"has_gas\"] == \"t\"], \"cons_gas_12m\", axs[1])\n",
    "plot_distribution(consumption, \"cons_last_month\", axs[2])\n",
    "plot_distribution(consumption, \"imp_cons\", axs[3])"
   ]
  },
  {
   "cell_type": "markdown",
   "metadata": {},
   "source": [
    "We can clearly see in here that the consumption data is highly skewed to the right, presenting a very long right-tail towards the higher values of the distribution."
   ]
  },
  {
   "cell_type": "markdown",
   "metadata": {},
   "source": [
    "The values on the higher end and lower ends of the distribution are likely to be outliers. We can use a standard plot to visualise the outliers in more detail. A **boxplot** is a standardized way of displaying the distribution of data based on a five number summary (“minimum”, first quartile (Q1), median, third quartile (Q3), and “maximum”). It can tell us about our outliers and what their values are. It can also tell us if our data is symmetrical, how tightly our data is grouped, and if and how our data is skewed."
   ]
  },
  {
   "cell_type": "code",
   "execution_count": 34,
   "metadata": {},
   "outputs": [
    {
     "name": "stderr",
     "output_type": "stream",
     "text": [
      "D:\\New folder\\anaconda\\lib\\site-packages\\seaborn\\_decorators.py:36: FutureWarning: Pass the following variable as a keyword arg: x. From version 0.12, the only valid positional argument will be `data`, and passing other arguments without an explicit keyword will result in an error or misinterpretation.\n",
      "  warnings.warn(\n",
      "D:\\New folder\\anaconda\\lib\\site-packages\\seaborn\\_decorators.py:36: FutureWarning: Pass the following variable as a keyword arg: x. From version 0.12, the only valid positional argument will be `data`, and passing other arguments without an explicit keyword will result in an error or misinterpretation.\n",
      "  warnings.warn(\n",
      "D:\\New folder\\anaconda\\lib\\site-packages\\seaborn\\_decorators.py:36: FutureWarning: Pass the following variable as a keyword arg: x. From version 0.12, the only valid positional argument will be `data`, and passing other arguments without an explicit keyword will result in an error or misinterpretation.\n",
      "  warnings.warn(\n",
      "D:\\New folder\\anaconda\\lib\\site-packages\\seaborn\\_decorators.py:36: FutureWarning: Pass the following variable as a keyword arg: x. From version 0.12, the only valid positional argument will be `data`, and passing other arguments without an explicit keyword will result in an error or misinterpretation.\n",
      "  warnings.warn(\n"
     ]
    },
    {
     "data": {
      "text/plain": [
       "(-20000.0, 100000.0)"
      ]
     },
     "execution_count": 34,
     "metadata": {},
     "output_type": "execute_result"
    },
    {
     "data": {
      "image/png": "[encoded data removed]",
      "text/plain": [
       "<Figure size 1296x1800 with 4 Axes>"
      ]
     },
     "metadata": {
      "needs_background": "light"
     },
     "output_type": "display_data"
    }
   ],
   "source": [
    "fig, axs = plt.subplots(nrows = 4, figsize = (18, 25))\n",
    "sns.boxplot(consumption[\"cons_12m\"], ax = axs[0])\n",
    "sns.boxplot(consumption[consumption[\"has_gas\"] == \"t\"][\"cons_gas_12m\"], ax = axs[1])\n",
    "sns.boxplot(consumption[\"cons_last_month\"], ax = axs[2])\n",
    "sns.boxplot(consumption[\"imp_cons\"], ax = axs[3])\n",
    "\n",
    "for ax in axs:\n",
    "    ax.ticklabel_format(style = \"plain\", axis = \"x\")\n",
    "axs[0].set_xlim(-200000, 2000000)\n",
    "axs[1].set_xlim(-200000, 2000000)\n",
    "axs[2].set_xlim(-20000, 100000)"
   ]
  },
  {
   "cell_type": "markdown",
   "metadata": {},
   "source": [
    "It is very clear now that we have a highly skewed distribution, and several outliers."
   ]
  },
  {
   "cell_type": "markdown",
   "metadata": {},
   "source": [
    "### Dates"
   ]
  },
  {
   "cell_type": "code",
   "execution_count": 35,
   "metadata": {},
   "outputs": [
    {
     "data": {
      "text/html": [
       "<div>\n",
       "<style scoped>\n",
       "    .dataframe tbody tr th:only-of-type {\n",
       "        vertical-align: middle;\n",
       "    }\n",
       "\n",
       "    .dataframe tbody tr th {\n",
       "        vertical-align: top;\n",
       "    }\n",
       "\n",
       "    .dataframe thead th {\n",
       "        text-align: right;\n",
       "    }\n",
       "</style>\n",
       "<table border=\"1\" class=\"dataframe\">\n",
       "  <thead>\n",
       "    <tr style=\"text-align: right;\">\n",
       "      <th></th>\n",
       "      <th>id</th>\n",
       "      <th>date_activ</th>\n",
       "      <th>date_end</th>\n",
       "      <th>date_modif_prod</th>\n",
       "      <th>date_renewal</th>\n",
       "      <th>churn</th>\n",
       "    </tr>\n",
       "  </thead>\n",
       "  <tbody>\n",
       "    <tr>\n",
       "      <th>0</th>\n",
       "      <td>48ada52261e7cf58715202705a0451c9</td>\n",
       "      <td>2012-11-07</td>\n",
       "      <td>2016-11-06</td>\n",
       "      <td>2012-11-07</td>\n",
       "      <td>2015-11-09</td>\n",
       "      <td>0</td>\n",
       "    </tr>\n",
       "    <tr>\n",
       "      <th>1</th>\n",
       "      <td>24011ae4ebbe3035111d65fa7c15bc57</td>\n",
       "      <td>2013-06-15</td>\n",
       "      <td>2016-06-15</td>\n",
       "      <td>NaN</td>\n",
       "      <td>2015-06-23</td>\n",
       "      <td>1</td>\n",
       "    </tr>\n",
       "    <tr>\n",
       "      <th>2</th>\n",
       "      <td>d29c2c54acc38ff3c0614d0a653813dd</td>\n",
       "      <td>2009-08-21</td>\n",
       "      <td>2016-08-30</td>\n",
       "      <td>2009-08-21</td>\n",
       "      <td>2015-08-31</td>\n",
       "      <td>0</td>\n",
       "    </tr>\n",
       "    <tr>\n",
       "      <th>3</th>\n",
       "      <td>764c75f661154dac3a6c254cd082ea7d</td>\n",
       "      <td>2010-04-16</td>\n",
       "      <td>2016-04-16</td>\n",
       "      <td>2010-04-16</td>\n",
       "      <td>2015-04-17</td>\n",
       "      <td>0</td>\n",
       "    </tr>\n",
       "    <tr>\n",
       "      <th>4</th>\n",
       "      <td>bba03439a292a1e166f80264c16191cb</td>\n",
       "      <td>2010-03-30</td>\n",
       "      <td>2016-03-30</td>\n",
       "      <td>2010-03-30</td>\n",
       "      <td>2015-03-31</td>\n",
       "      <td>0</td>\n",
       "    </tr>\n",
       "  </tbody>\n",
       "</table>\n",
       "</div>"
      ],
      "text/plain": [
       "                                 id  date_activ    date_end date_modif_prod  \\\n",
       "0  48ada52261e7cf58715202705a0451c9  2012-11-07  2016-11-06      2012-11-07   \n",
       "1  24011ae4ebbe3035111d65fa7c15bc57  2013-06-15  2016-06-15             NaN   \n",
       "2  d29c2c54acc38ff3c0614d0a653813dd  2009-08-21  2016-08-30      2009-08-21   \n",
       "3  764c75f661154dac3a6c254cd082ea7d  2010-04-16  2016-04-16      2010-04-16   \n",
       "4  bba03439a292a1e166f80264c16191cb  2010-03-30  2016-03-30      2010-03-30   \n",
       "\n",
       "  date_renewal  churn  \n",
       "0   2015-11-09      0  \n",
       "1   2015-06-23      1  \n",
       "2   2015-08-31      0  \n",
       "3   2015-04-17      0  \n",
       "4   2015-03-31      0  "
      ]
     },
     "execution_count": 35,
     "metadata": {},
     "output_type": "execute_result"
    }
   ],
   "source": [
    "dates = df_train[[\"id\", \"date_activ\", \"date_end\", \"date_modif_prod\", \"date_renewal\", \"churn\"]].copy()\n",
    "dates.head()"
   ]
  },
  {
   "cell_type": "code",
   "execution_count": 36,
   "metadata": {},
   "outputs": [],
   "source": [
    "# Transform date columns to datetime type\n",
    "dates[\"date_activ\"] = pd.to_datetime(dates[\"date_activ\"], format = \"%Y-%m-%d\")\n",
    "dates[\"date_end\"] = pd.to_datetime(dates[\"date_end\"], format = \"%Y-%m-%d\")\n",
    "dates[\"date_modif_prod\"] = pd.to_datetime(dates[\"date_modif_prod\"], format = \"%Y-%m-%d\")\n",
    "dates[\"date_renewal\"] = pd.to_datetime(dates[\"date_renewal\"], format = \"%Y-%m-%d\")"
   ]
  },
  {
   "cell_type": "markdown",
   "metadata": {},
   "source": [
    "**Plot monthly churn and retention distribution**"
   ]
  },
  {
   "cell_type": "code",
   "execution_count": 37,
   "metadata": {},
   "outputs": [],
   "source": [
    "def plot_dates(dataframe, column, fontsize_ = 12):\n",
    "    temp = dataframe[[column, \"churn\", \"id\"]].set_index(column).groupby([pd.Grouper(freq = \"M\"), \"churn\"]).count().unstack(level = 1)\n",
    "    ax = temp.plot(kind = \"bar\", stacked = True, figsize = (18, 10), rot = 0)\n",
    "    ax.set_xticklabels(map(lambda x: line_format(x), temp.index))\n",
    "    plt.xticks(fontsize = fontsize_)\n",
    "    plt.ylabel(\"Number of companies\")\n",
    "    plt.legend([\"Retention\", \"Churn\"], loc = \"upper right\")\n",
    "    plt.show()\n",
    "    \n",
    "# Convert time label to the format of pandas line plot\n",
    "def line_format(label):\n",
    "    month = label.month_name()[:1]\n",
    "    if label.month_name() == \"January\":\n",
    "        month += f'\\n{label.year}'\n",
    "    return month"
   ]
  },
  {
   "cell_type": "code",
   "execution_count": 38,
   "metadata": {},
   "outputs": [
    {
     "data": {
      "image/png": "[encoded data removed]",
      "text/plain": [
       "<Figure size 1296x720 with 1 Axes>"
      ]
     },
     "metadata": {
      "needs_background": "light"
     },
     "output_type": "display_data"
    }
   ],
   "source": [
    "plot_dates(dates, \"date_activ\", fontsize_ = 8)"
   ]
  },
  {
   "cell_type": "code",
   "execution_count": 39,
   "metadata": {},
   "outputs": [
    {
     "data": {
      "image/png": "[encoded data removed]",
      "text/plain": [
       "<Figure size 1296x720 with 1 Axes>"
      ]
     },
     "metadata": {
      "needs_background": "light"
     },
     "output_type": "display_data"
    }
   ],
   "source": [
    "plot_dates(dates, \"date_end\")"
   ]
  },
  {
   "cell_type": "code",
   "execution_count": 40,
   "metadata": {},
   "outputs": [
    {
     "data": {
      "image/png": "[encoded data removed]",
      "text/plain": [
       "<Figure size 1296x720 with 1 Axes>"
      ]
     },
     "metadata": {
      "needs_background": "light"
     },
     "output_type": "display_data"
    }
   ],
   "source": [
    "plot_dates(dates, \"date_modif_prod\", fontsize_ = 8)"
   ]
  },
  {
   "cell_type": "code",
   "execution_count": 41,
   "metadata": {},
   "outputs": [
    {
     "data": {
      "image/png": "[encoded data removed]",
      "text/plain": [
       "<Figure size 1296x720 with 1 Axes>"
      ]
     },
     "metadata": {
      "needs_background": "light"
     },
     "output_type": "display_data"
    }
   ],
   "source": [
    "plot_dates(dates, \"date_renewal\")"
   ]
  },
  {
   "cell_type": "markdown",
   "metadata": {},
   "source": [
    "As a remark in here, we can visualize the distribution of churned companies according to the date. However, this does not provide us with any useful insight. We will create a new feature using the raw dates provided in the next exercise."
   ]
  },
  {
   "cell_type": "markdown",
   "metadata": {},
   "source": [
    "### Forecast"
   ]
  },
  {
   "cell_type": "code",
   "execution_count": 42,
   "metadata": {},
   "outputs": [
    {
     "data": {
      "text/html": [
       "<div>\n",
       "<style scoped>\n",
       "    .dataframe tbody tr th:only-of-type {\n",
       "        vertical-align: middle;\n",
       "    }\n",
       "\n",
       "    .dataframe tbody tr th {\n",
       "        vertical-align: top;\n",
       "    }\n",
       "\n",
       "    .dataframe thead th {\n",
       "        text-align: right;\n",
       "    }\n",
       "</style>\n",
       "<table border=\"1\" class=\"dataframe\">\n",
       "  <thead>\n",
       "    <tr style=\"text-align: right;\">\n",
       "      <th></th>\n",
       "      <th>id</th>\n",
       "      <th>forecast_base_bill_ele</th>\n",
       "      <th>forecast_base_bill_year</th>\n",
       "      <th>forecast_bill_12m</th>\n",
       "      <th>forecast_cons</th>\n",
       "      <th>forecast_cons_12m</th>\n",
       "      <th>forecast_cons_year</th>\n",
       "      <th>forecast_discount_energy</th>\n",
       "      <th>forecast_meter_rent_12m</th>\n",
       "      <th>forecast_price_energy_p1</th>\n",
       "      <th>forecast_price_energy_p2</th>\n",
       "      <th>forecast_price_pow_p1</th>\n",
       "      <th>churn</th>\n",
       "    </tr>\n",
       "  </thead>\n",
       "  <tbody>\n",
       "    <tr>\n",
       "      <th>0</th>\n",
       "      <td>48ada52261e7cf58715202705a0451c9</td>\n",
       "      <td>NaN</td>\n",
       "      <td>NaN</td>\n",
       "      <td>NaN</td>\n",
       "      <td>NaN</td>\n",
       "      <td>26520.30</td>\n",
       "      <td>10025</td>\n",
       "      <td>0.0</td>\n",
       "      <td>359.29</td>\n",
       "      <td>0.095919</td>\n",
       "      <td>0.088347</td>\n",
       "      <td>58.995952</td>\n",
       "      <td>0</td>\n",
       "    </tr>\n",
       "    <tr>\n",
       "      <th>1</th>\n",
       "      <td>24011ae4ebbe3035111d65fa7c15bc57</td>\n",
       "      <td>NaN</td>\n",
       "      <td>NaN</td>\n",
       "      <td>NaN</td>\n",
       "      <td>NaN</td>\n",
       "      <td>0.00</td>\n",
       "      <td>0</td>\n",
       "      <td>0.0</td>\n",
       "      <td>1.78</td>\n",
       "      <td>0.114481</td>\n",
       "      <td>0.098142</td>\n",
       "      <td>40.606701</td>\n",
       "      <td>1</td>\n",
       "    </tr>\n",
       "    <tr>\n",
       "      <th>2</th>\n",
       "      <td>d29c2c54acc38ff3c0614d0a653813dd</td>\n",
       "      <td>NaN</td>\n",
       "      <td>NaN</td>\n",
       "      <td>NaN</td>\n",
       "      <td>NaN</td>\n",
       "      <td>189.95</td>\n",
       "      <td>0</td>\n",
       "      <td>0.0</td>\n",
       "      <td>16.27</td>\n",
       "      <td>0.145711</td>\n",
       "      <td>0.000000</td>\n",
       "      <td>44.311378</td>\n",
       "      <td>0</td>\n",
       "    </tr>\n",
       "    <tr>\n",
       "      <th>3</th>\n",
       "      <td>764c75f661154dac3a6c254cd082ea7d</td>\n",
       "      <td>NaN</td>\n",
       "      <td>NaN</td>\n",
       "      <td>NaN</td>\n",
       "      <td>NaN</td>\n",
       "      <td>47.96</td>\n",
       "      <td>0</td>\n",
       "      <td>0.0</td>\n",
       "      <td>38.72</td>\n",
       "      <td>0.165794</td>\n",
       "      <td>0.087899</td>\n",
       "      <td>44.311378</td>\n",
       "      <td>0</td>\n",
       "    </tr>\n",
       "    <tr>\n",
       "      <th>4</th>\n",
       "      <td>bba03439a292a1e166f80264c16191cb</td>\n",
       "      <td>NaN</td>\n",
       "      <td>NaN</td>\n",
       "      <td>NaN</td>\n",
       "      <td>NaN</td>\n",
       "      <td>240.04</td>\n",
       "      <td>0</td>\n",
       "      <td>0.0</td>\n",
       "      <td>19.83</td>\n",
       "      <td>0.146694</td>\n",
       "      <td>0.000000</td>\n",
       "      <td>44.311378</td>\n",
       "      <td>0</td>\n",
       "    </tr>\n",
       "  </tbody>\n",
       "</table>\n",
       "</div>"
      ],
      "text/plain": [
       "                                 id  forecast_base_bill_ele  \\\n",
       "0  48ada52261e7cf58715202705a0451c9                     NaN   \n",
       "1  24011ae4ebbe3035111d65fa7c15bc57                     NaN   \n",
       "2  d29c2c54acc38ff3c0614d0a653813dd                     NaN   \n",
       "3  764c75f661154dac3a6c254cd082ea7d                     NaN   \n",
       "4  bba03439a292a1e166f80264c16191cb                     NaN   \n",
       "\n",
       "   forecast_base_bill_year  forecast_bill_12m  forecast_cons  \\\n",
       "0                      NaN                NaN            NaN   \n",
       "1                      NaN                NaN            NaN   \n",
       "2                      NaN                NaN            NaN   \n",
       "3                      NaN                NaN            NaN   \n",
       "4                      NaN                NaN            NaN   \n",
       "\n",
       "   forecast_cons_12m  forecast_cons_year  forecast_discount_energy  \\\n",
       "0           26520.30               10025                       0.0   \n",
       "1               0.00                   0                       0.0   \n",
       "2             189.95                   0                       0.0   \n",
       "3              47.96                   0                       0.0   \n",
       "4             240.04                   0                       0.0   \n",
       "\n",
       "   forecast_meter_rent_12m  forecast_price_energy_p1  \\\n",
       "0                   359.29                  0.095919   \n",
       "1                     1.78                  0.114481   \n",
       "2                    16.27                  0.145711   \n",
       "3                    38.72                  0.165794   \n",
       "4                    19.83                  0.146694   \n",
       "\n",
       "   forecast_price_energy_p2  forecast_price_pow_p1  churn  \n",
       "0                  0.088347              58.995952      0  \n",
       "1                  0.098142              40.606701      1  \n",
       "2                  0.000000              44.311378      0  \n",
       "3                  0.087899              44.311378      0  \n",
       "4                  0.000000              44.311378      0  "
      ]
     },
     "execution_count": 42,
     "metadata": {},
     "output_type": "execute_result"
    }
   ],
   "source": [
    "forecast = df_train[[\"id\",\"forecast_base_bill_ele\",\"forecast_base_bill_year\",\"forecast_bill_12m\",\"forecast_cons\",\"forecast_cons_12m\",\"forecast_cons_year\",\"forecast_discount_energy\",\"forecast_meter_rent_12m\",\"forecast_price_energy_p1\",\"forecast_price_energy_p2\",\"forecast_price_pow_p1\",\"churn\"]]\n",
    "forecast.head()"
   ]
  },
  {
   "cell_type": "code",
   "execution_count": 43,
   "metadata": {},
   "outputs": [
    {
     "data": {
      "image/png": "[encoded data removed]",
      "text/plain": [
       "<Figure size 1296x3600 with 11 Axes>"
      ]
     },
     "metadata": {
      "needs_background": "light"
     },
     "output_type": "display_data"
    }
   ],
   "source": [
    "fig, axs = plt.subplots(nrows = 11, figsize = (18, 50))\n",
    "# Plot histogram\n",
    "plot_distribution(df_train, \"forecast_base_bill_ele\", axs[0])\n",
    "plot_distribution(df_train, \"forecast_base_bill_year\", axs[1])\n",
    "plot_distribution(df_train, \"forecast_bill_12m\", axs[2])\n",
    "plot_distribution(df_train, \"forecast_cons\", axs[3])\n",
    "plot_distribution(df_train, \"forecast_cons_12m\", axs[4])\n",
    "plot_distribution(df_train, \"forecast_cons_year\", axs[5])\n",
    "plot_distribution(df_train, \"forecast_discount_energy\", axs[6])\n",
    "plot_distribution(df_train, \"forecast_meter_rent_12m\", axs[7])\n",
    "plot_distribution(df_train, \"forecast_price_energy_p1\", axs[8])\n",
    "plot_distribution(df_train, \"forecast_price_energy_p2\", axs[9])\n",
    "plot_distribution(df_train, \"forecast_price_pow_p1\", axs[10])"
   ]
  },
  {
   "cell_type": "markdown",
   "metadata": {},
   "source": [
    "Similarly to the consumption plots, we can observe that a lot of the variables are highly skewed to the right, creating a very long tail on the higher\n",
    "values."
   ]
  },
  {
   "cell_type": "markdown",
   "metadata": {},
   "source": [
    "We will make some transformations to correct for this skewness"
   ]
  },
  {
   "cell_type": "markdown",
   "metadata": {},
   "source": [
    "### Contract type (electricity, gas)"
   ]
  },
  {
   "cell_type": "code",
   "execution_count": 44,
   "metadata": {},
   "outputs": [
    {
     "data": {
      "text/html": [
       "<div>\n",
       "<style scoped>\n",
       "    .dataframe tbody tr th:only-of-type {\n",
       "        vertical-align: middle;\n",
       "    }\n",
       "\n",
       "    .dataframe tbody tr th {\n",
       "        vertical-align: top;\n",
       "    }\n",
       "\n",
       "    .dataframe thead th {\n",
       "        text-align: right;\n",
       "    }\n",
       "</style>\n",
       "<table border=\"1\" class=\"dataframe\">\n",
       "  <thead>\n",
       "    <tr style=\"text-align: right;\">\n",
       "      <th></th>\n",
       "      <th>id</th>\n",
       "      <th>has_gas</th>\n",
       "      <th>churn</th>\n",
       "    </tr>\n",
       "  </thead>\n",
       "  <tbody>\n",
       "    <tr>\n",
       "      <th>0</th>\n",
       "      <td>48ada52261e7cf58715202705a0451c9</td>\n",
       "      <td>f</td>\n",
       "      <td>0</td>\n",
       "    </tr>\n",
       "    <tr>\n",
       "      <th>1</th>\n",
       "      <td>24011ae4ebbe3035111d65fa7c15bc57</td>\n",
       "      <td>t</td>\n",
       "      <td>1</td>\n",
       "    </tr>\n",
       "    <tr>\n",
       "      <th>2</th>\n",
       "      <td>d29c2c54acc38ff3c0614d0a653813dd</td>\n",
       "      <td>f</td>\n",
       "      <td>0</td>\n",
       "    </tr>\n",
       "    <tr>\n",
       "      <th>3</th>\n",
       "      <td>764c75f661154dac3a6c254cd082ea7d</td>\n",
       "      <td>f</td>\n",
       "      <td>0</td>\n",
       "    </tr>\n",
       "    <tr>\n",
       "      <th>4</th>\n",
       "      <td>bba03439a292a1e166f80264c16191cb</td>\n",
       "      <td>f</td>\n",
       "      <td>0</td>\n",
       "    </tr>\n",
       "  </tbody>\n",
       "</table>\n",
       "</div>"
      ],
      "text/plain": [
       "                                 id has_gas  churn\n",
       "0  48ada52261e7cf58715202705a0451c9       f      0\n",
       "1  24011ae4ebbe3035111d65fa7c15bc57       t      1\n",
       "2  d29c2c54acc38ff3c0614d0a653813dd       f      0\n",
       "3  764c75f661154dac3a6c254cd082ea7d       f      0\n",
       "4  bba03439a292a1e166f80264c16191cb       f      0"
      ]
     },
     "execution_count": 44,
     "metadata": {},
     "output_type": "execute_result"
    }
   ],
   "source": [
    "contract_type = df_train[[\"id\", \"has_gas\", \"churn\"]]\n",
    "contract_type.head()"
   ]
  },
  {
   "cell_type": "code",
   "execution_count": 45,
   "metadata": {},
   "outputs": [
    {
     "data": {
      "text/html": [
       "<div>\n",
       "<style scoped>\n",
       "    .dataframe tbody tr th:only-of-type {\n",
       "        vertical-align: middle;\n",
       "    }\n",
       "\n",
       "    .dataframe tbody tr th {\n",
       "        vertical-align: top;\n",
       "    }\n",
       "\n",
       "    .dataframe thead th {\n",
       "        text-align: right;\n",
       "    }\n",
       "</style>\n",
       "<table border=\"1\" class=\"dataframe\">\n",
       "  <thead>\n",
       "    <tr style=\"text-align: right;\">\n",
       "      <th>churn</th>\n",
       "      <th>0</th>\n",
       "      <th>1</th>\n",
       "    </tr>\n",
       "    <tr>\n",
       "      <th>has_gas</th>\n",
       "      <th></th>\n",
       "      <th></th>\n",
       "    </tr>\n",
       "  </thead>\n",
       "  <tbody>\n",
       "    <tr>\n",
       "      <th>f</th>\n",
       "      <td>11771</td>\n",
       "      <td>1361</td>\n",
       "    </tr>\n",
       "    <tr>\n",
       "      <th>t</th>\n",
       "      <td>2730</td>\n",
       "      <td>234</td>\n",
       "    </tr>\n",
       "  </tbody>\n",
       "</table>\n",
       "</div>"
      ],
      "text/plain": [
       "churn        0     1\n",
       "has_gas             \n",
       "f        11771  1361\n",
       "t         2730   234"
      ]
     },
     "execution_count": 45,
     "metadata": {},
     "output_type": "execute_result"
    }
   ],
   "source": [
    "contract = contract_type.groupby([contract_type[\"churn\"], contract_type[\"has_gas\"]])[\"id\"].count().unstack(level = 0)\n",
    "contract"
   ]
  },
  {
   "cell_type": "code",
   "execution_count": 46,
   "metadata": {},
   "outputs": [
    {
     "data": {
      "text/html": [
       "<div>\n",
       "<style scoped>\n",
       "    .dataframe tbody tr th:only-of-type {\n",
       "        vertical-align: middle;\n",
       "    }\n",
       "\n",
       "    .dataframe tbody tr th {\n",
       "        vertical-align: top;\n",
       "    }\n",
       "\n",
       "    .dataframe thead th {\n",
       "        text-align: right;\n",
       "    }\n",
       "</style>\n",
       "<table border=\"1\" class=\"dataframe\">\n",
       "  <thead>\n",
       "    <tr style=\"text-align: right;\">\n",
       "      <th>churn</th>\n",
       "      <th>0</th>\n",
       "      <th>1</th>\n",
       "    </tr>\n",
       "    <tr>\n",
       "      <th>has_gas</th>\n",
       "      <th></th>\n",
       "      <th></th>\n",
       "    </tr>\n",
       "  </thead>\n",
       "  <tbody>\n",
       "    <tr>\n",
       "      <th>f</th>\n",
       "      <td>0.896360</td>\n",
       "      <td>0.103640</td>\n",
       "    </tr>\n",
       "    <tr>\n",
       "      <th>t</th>\n",
       "      <td>0.921053</td>\n",
       "      <td>0.078947</td>\n",
       "    </tr>\n",
       "  </tbody>\n",
       "</table>\n",
       "</div>"
      ],
      "text/plain": [
       "churn           0         1\n",
       "has_gas                    \n",
       "f        0.896360  0.103640\n",
       "t        0.921053  0.078947"
      ]
     },
     "execution_count": 46,
     "metadata": {},
     "output_type": "execute_result"
    }
   ],
   "source": [
    "contract_percentage = (contract.div(contract.sum(axis = 1), axis = 0)).sort_values(by = [1], ascending = False)\n",
    "contract_percentage"
   ]
  },
  {
   "cell_type": "code",
   "execution_count": 47,
   "metadata": {},
   "outputs": [
    {
     "data": {
      "image/png": "[encoded data removed]",
      "text/plain": [
       "<Figure size 1296x720 with 1 Axes>"
      ]
     },
     "metadata": {
      "needs_background": "light"
     },
     "output_type": "display_data"
    }
   ],
   "source": [
    "plot_stacked_bars(contract_percentage, \"Contract type (with gas)\")"
   ]
  },
  {
   "cell_type": "markdown",
   "metadata": {},
   "source": [
    "### Margins"
   ]
  },
  {
   "cell_type": "code",
   "execution_count": 57,
   "metadata": {},
   "outputs": [
    {
     "data": {
      "text/html": [
       "<div>\n",
       "<style scoped>\n",
       "    .dataframe tbody tr th:only-of-type {\n",
       "        vertical-align: middle;\n",
       "    }\n",
       "\n",
       "    .dataframe tbody tr th {\n",
       "        vertical-align: top;\n",
       "    }\n",
       "\n",
       "    .dataframe thead th {\n",
       "        text-align: right;\n",
       "    }\n",
       "</style>\n",
       "<table border=\"1\" class=\"dataframe\">\n",
       "  <thead>\n",
       "    <tr style=\"text-align: right;\">\n",
       "      <th></th>\n",
       "      <th>id</th>\n",
       "      <th>margin_gross_pow_ele</th>\n",
       "      <th>margin_net_pow_ele</th>\n",
       "      <th>net_margin</th>\n",
       "    </tr>\n",
       "  </thead>\n",
       "  <tbody>\n",
       "    <tr>\n",
       "      <th>0</th>\n",
       "      <td>48ada52261e7cf58715202705a0451c9</td>\n",
       "      <td>-41.76</td>\n",
       "      <td>-41.76</td>\n",
       "      <td>1732.36</td>\n",
       "    </tr>\n",
       "    <tr>\n",
       "      <th>1</th>\n",
       "      <td>24011ae4ebbe3035111d65fa7c15bc57</td>\n",
       "      <td>25.44</td>\n",
       "      <td>25.44</td>\n",
       "      <td>678.99</td>\n",
       "    </tr>\n",
       "    <tr>\n",
       "      <th>2</th>\n",
       "      <td>d29c2c54acc38ff3c0614d0a653813dd</td>\n",
       "      <td>16.38</td>\n",
       "      <td>16.38</td>\n",
       "      <td>18.89</td>\n",
       "    </tr>\n",
       "    <tr>\n",
       "      <th>3</th>\n",
       "      <td>764c75f661154dac3a6c254cd082ea7d</td>\n",
       "      <td>28.60</td>\n",
       "      <td>28.60</td>\n",
       "      <td>6.60</td>\n",
       "    </tr>\n",
       "    <tr>\n",
       "      <th>4</th>\n",
       "      <td>bba03439a292a1e166f80264c16191cb</td>\n",
       "      <td>30.22</td>\n",
       "      <td>30.22</td>\n",
       "      <td>25.46</td>\n",
       "    </tr>\n",
       "  </tbody>\n",
       "</table>\n",
       "</div>"
      ],
      "text/plain": [
       "                                 id  margin_gross_pow_ele  margin_net_pow_ele  \\\n",
       "0  48ada52261e7cf58715202705a0451c9                -41.76              -41.76   \n",
       "1  24011ae4ebbe3035111d65fa7c15bc57                 25.44               25.44   \n",
       "2  d29c2c54acc38ff3c0614d0a653813dd                 16.38               16.38   \n",
       "3  764c75f661154dac3a6c254cd082ea7d                 28.60               28.60   \n",
       "4  bba03439a292a1e166f80264c16191cb                 30.22               30.22   \n",
       "\n",
       "   net_margin  \n",
       "0     1732.36  \n",
       "1      678.99  \n",
       "2       18.89  \n",
       "3        6.60  \n",
       "4       25.46  "
      ]
     },
     "execution_count": 57,
     "metadata": {},
     "output_type": "execute_result"
    }
   ],
   "source": [
    "margin = df_train[[\"id\", \"margin_gross_pow_ele\", \"margin_net_pow_ele\", \"net_margin\"]]\n",
    "margin.head()"
   ]
  },
  {
   "cell_type": "code",
   "execution_count": 49,
   "metadata": {},
   "outputs": [
    {
     "name": "stderr",
     "output_type": "stream",
     "text": [
      "D:\\New folder\\anaconda\\lib\\site-packages\\seaborn\\_decorators.py:36: FutureWarning: Pass the following variable as a keyword arg: x. From version 0.12, the only valid positional argument will be `data`, and passing other arguments without an explicit keyword will result in an error or misinterpretation.\n",
      "  warnings.warn(\n",
      "D:\\New folder\\anaconda\\lib\\site-packages\\seaborn\\_decorators.py:36: FutureWarning: Pass the following variable as a keyword arg: x. From version 0.12, the only valid positional argument will be `data`, and passing other arguments without an explicit keyword will result in an error or misinterpretation.\n",
      "  warnings.warn(\n",
      "D:\\New folder\\anaconda\\lib\\site-packages\\seaborn\\_decorators.py:36: FutureWarning: Pass the following variable as a keyword arg: x. From version 0.12, the only valid positional argument will be `data`, and passing other arguments without an explicit keyword will result in an error or misinterpretation.\n",
      "  warnings.warn(\n"
     ]
    },
    {
     "data": {
      "image/png": "[encoded data removed]",
      "text/plain": [
       "<Figure size 1296x1440 with 3 Axes>"
      ]
     },
     "metadata": {
      "needs_background": "light"
     },
     "output_type": "display_data"
    }
   ],
   "source": [
    "fig, axs = plt.subplots(nrows = 3, figsize = (18, 20))\n",
    "# Plot Histogram\n",
    "sns.boxplot(margin[\"margin_gross_pow_ele\"], ax = axs[0])\n",
    "sns.boxplot(margin[\"margin_net_pow_ele\"], ax = axs[1])\n",
    "sns.boxplot(margin[\"net_margin\"], ax = axs[2])\n",
    "\n",
    "# Remove Scientific Notation\n",
    "axs[0].ticklabel_format(style = \"plain\", axis = \"x\")\n",
    "axs[1].ticklabel_format(style = \"plain\", axis = \"x\")\n",
    "axs[2].ticklabel_format(style = \"plain\", axis = \"x\")\n",
    "plt.show()"
   ]
  },
  {
   "cell_type": "markdown",
   "metadata": {},
   "source": [
    "### Subscribed Power"
   ]
  },
  {
   "cell_type": "code",
   "execution_count": 52,
   "metadata": {},
   "outputs": [
    {
     "data": {
      "text/html": [
       "<div>\n",
       "<style scoped>\n",
       "    .dataframe tbody tr th:only-of-type {\n",
       "        vertical-align: middle;\n",
       "    }\n",
       "\n",
       "    .dataframe tbody tr th {\n",
       "        vertical-align: top;\n",
       "    }\n",
       "\n",
       "    .dataframe thead th {\n",
       "        text-align: right;\n",
       "    }\n",
       "</style>\n",
       "<table border=\"1\" class=\"dataframe\">\n",
       "  <thead>\n",
       "    <tr style=\"text-align: right;\">\n",
       "      <th></th>\n",
       "      <th>id</th>\n",
       "      <th>pow_max</th>\n",
       "      <th>churn</th>\n",
       "    </tr>\n",
       "  </thead>\n",
       "  <tbody>\n",
       "    <tr>\n",
       "      <th>0</th>\n",
       "      <td>48ada52261e7cf58715202705a0451c9</td>\n",
       "      <td>180.000</td>\n",
       "      <td>0</td>\n",
       "    </tr>\n",
       "    <tr>\n",
       "      <th>1</th>\n",
       "      <td>24011ae4ebbe3035111d65fa7c15bc57</td>\n",
       "      <td>43.648</td>\n",
       "      <td>1</td>\n",
       "    </tr>\n",
       "    <tr>\n",
       "      <th>2</th>\n",
       "      <td>d29c2c54acc38ff3c0614d0a653813dd</td>\n",
       "      <td>13.800</td>\n",
       "      <td>0</td>\n",
       "    </tr>\n",
       "    <tr>\n",
       "      <th>3</th>\n",
       "      <td>764c75f661154dac3a6c254cd082ea7d</td>\n",
       "      <td>13.856</td>\n",
       "      <td>0</td>\n",
       "    </tr>\n",
       "    <tr>\n",
       "      <th>4</th>\n",
       "      <td>bba03439a292a1e166f80264c16191cb</td>\n",
       "      <td>13.200</td>\n",
       "      <td>0</td>\n",
       "    </tr>\n",
       "  </tbody>\n",
       "</table>\n",
       "</div>"
      ],
      "text/plain": [
       "                                 id  pow_max  churn\n",
       "0  48ada52261e7cf58715202705a0451c9  180.000      0\n",
       "1  24011ae4ebbe3035111d65fa7c15bc57   43.648      1\n",
       "2  d29c2c54acc38ff3c0614d0a653813dd   13.800      0\n",
       "3  764c75f661154dac3a6c254cd082ea7d   13.856      0\n",
       "4  bba03439a292a1e166f80264c16191cb   13.200      0"
      ]
     },
     "execution_count": 52,
     "metadata": {},
     "output_type": "execute_result"
    }
   ],
   "source": [
    "power = df_train[[\"id\", \"pow_max\", \"churn\"]].fillna(0)\n",
    "power.head()"
   ]
  },
  {
   "cell_type": "code",
   "execution_count": 55,
   "metadata": {},
   "outputs": [
    {
     "data": {
      "image/png": "[encoded data removed]",
      "text/plain": [
       "<Figure size 1296x720 with 1 Axes>"
      ]
     },
     "metadata": {
      "needs_background": "light"
     },
     "output_type": "display_data"
    }
   ],
   "source": [
    "fig, axs = plt.subplots(figsize = (18, 10))\n",
    "plot_distribution(power, \"pow_max\", axs)"
   ]
  },
  {
   "cell_type": "markdown",
   "metadata": {},
   "source": [
    "### Others"
   ]
  },
  {
   "cell_type": "code",
   "execution_count": 58,
   "metadata": {},
   "outputs": [
    {
     "data": {
      "text/html": [
       "<div>\n",
       "<style scoped>\n",
       "    .dataframe tbody tr th:only-of-type {\n",
       "        vertical-align: middle;\n",
       "    }\n",
       "\n",
       "    .dataframe tbody tr th {\n",
       "        vertical-align: top;\n",
       "    }\n",
       "\n",
       "    .dataframe thead th {\n",
       "        text-align: right;\n",
       "    }\n",
       "</style>\n",
       "<table border=\"1\" class=\"dataframe\">\n",
       "  <thead>\n",
       "    <tr style=\"text-align: right;\">\n",
       "      <th></th>\n",
       "      <th>id</th>\n",
       "      <th>nb_prod_act</th>\n",
       "      <th>num_years_antig</th>\n",
       "      <th>origin_up</th>\n",
       "      <th>churn</th>\n",
       "    </tr>\n",
       "  </thead>\n",
       "  <tbody>\n",
       "    <tr>\n",
       "      <th>0</th>\n",
       "      <td>48ada52261e7cf58715202705a0451c9</td>\n",
       "      <td>1</td>\n",
       "      <td>3</td>\n",
       "      <td>ldkssxwpmemidmecebumciepifcamkci</td>\n",
       "      <td>0</td>\n",
       "    </tr>\n",
       "    <tr>\n",
       "      <th>1</th>\n",
       "      <td>24011ae4ebbe3035111d65fa7c15bc57</td>\n",
       "      <td>2</td>\n",
       "      <td>3</td>\n",
       "      <td>lxidpiddsbxsbosboudacockeimpuepw</td>\n",
       "      <td>1</td>\n",
       "    </tr>\n",
       "    <tr>\n",
       "      <th>2</th>\n",
       "      <td>d29c2c54acc38ff3c0614d0a653813dd</td>\n",
       "      <td>1</td>\n",
       "      <td>6</td>\n",
       "      <td>kamkkxfxxuwbdslkwifmmcsiusiuosws</td>\n",
       "      <td>0</td>\n",
       "    </tr>\n",
       "    <tr>\n",
       "      <th>3</th>\n",
       "      <td>764c75f661154dac3a6c254cd082ea7d</td>\n",
       "      <td>1</td>\n",
       "      <td>6</td>\n",
       "      <td>kamkkxfxxuwbdslkwifmmcsiusiuosws</td>\n",
       "      <td>0</td>\n",
       "    </tr>\n",
       "    <tr>\n",
       "      <th>4</th>\n",
       "      <td>bba03439a292a1e166f80264c16191cb</td>\n",
       "      <td>1</td>\n",
       "      <td>6</td>\n",
       "      <td>kamkkxfxxuwbdslkwifmmcsiusiuosws</td>\n",
       "      <td>0</td>\n",
       "    </tr>\n",
       "  </tbody>\n",
       "</table>\n",
       "</div>"
      ],
      "text/plain": [
       "                                 id  nb_prod_act  num_years_antig  \\\n",
       "0  48ada52261e7cf58715202705a0451c9            1                3   \n",
       "1  24011ae4ebbe3035111d65fa7c15bc57            2                3   \n",
       "2  d29c2c54acc38ff3c0614d0a653813dd            1                6   \n",
       "3  764c75f661154dac3a6c254cd082ea7d            1                6   \n",
       "4  bba03439a292a1e166f80264c16191cb            1                6   \n",
       "\n",
       "                          origin_up  churn  \n",
       "0  ldkssxwpmemidmecebumciepifcamkci      0  \n",
       "1  lxidpiddsbxsbosboudacockeimpuepw      1  \n",
       "2  kamkkxfxxuwbdslkwifmmcsiusiuosws      0  \n",
       "3  kamkkxfxxuwbdslkwifmmcsiusiuosws      0  \n",
       "4  kamkkxfxxuwbdslkwifmmcsiusiuosws      0  "
      ]
     },
     "execution_count": 58,
     "metadata": {},
     "output_type": "execute_result"
    }
   ],
   "source": [
    "others = df_train[[\"id\", \"nb_prod_act\", \"num_years_antig\", \"origin_up\", \"churn\"]]\n",
    "others.head()"
   ]
  },
  {
   "cell_type": "markdown",
   "metadata": {},
   "source": [
    "**Number of active products and services**"
   ]
  },
  {
   "cell_type": "code",
   "execution_count": 60,
   "metadata": {},
   "outputs": [
    {
     "data": {
      "text/html": [
       "<div>\n",
       "<style scoped>\n",
       "    .dataframe tbody tr th:only-of-type {\n",
       "        vertical-align: middle;\n",
       "    }\n",
       "\n",
       "    .dataframe tbody tr th {\n",
       "        vertical-align: top;\n",
       "    }\n",
       "\n",
       "    .dataframe thead th {\n",
       "        text-align: right;\n",
       "    }\n",
       "</style>\n",
       "<table border=\"1\" class=\"dataframe\">\n",
       "  <thead>\n",
       "    <tr style=\"text-align: right;\">\n",
       "      <th>churn</th>\n",
       "      <th>0</th>\n",
       "      <th>1</th>\n",
       "    </tr>\n",
       "    <tr>\n",
       "      <th>nb_prod_act</th>\n",
       "      <th></th>\n",
       "      <th></th>\n",
       "    </tr>\n",
       "  </thead>\n",
       "  <tbody>\n",
       "    <tr>\n",
       "      <th>1</th>\n",
       "      <td>11266.0</td>\n",
       "      <td>1294.0</td>\n",
       "    </tr>\n",
       "    <tr>\n",
       "      <th>2</th>\n",
       "      <td>2481.0</td>\n",
       "      <td>227.0</td>\n",
       "    </tr>\n",
       "    <tr>\n",
       "      <th>3</th>\n",
       "      <td>505.0</td>\n",
       "      <td>56.0</td>\n",
       "    </tr>\n",
       "    <tr>\n",
       "      <th>4</th>\n",
       "      <td>155.0</td>\n",
       "      <td>15.0</td>\n",
       "    </tr>\n",
       "    <tr>\n",
       "      <th>5</th>\n",
       "      <td>34.0</td>\n",
       "      <td>3.0</td>\n",
       "    </tr>\n",
       "  </tbody>\n",
       "</table>\n",
       "</div>"
      ],
      "text/plain": [
       "churn              0       1\n",
       "nb_prod_act                 \n",
       "1            11266.0  1294.0\n",
       "2             2481.0   227.0\n",
       "3              505.0    56.0\n",
       "4              155.0    15.0\n",
       "5               34.0     3.0"
      ]
     },
     "execution_count": 60,
     "metadata": {},
     "output_type": "execute_result"
    }
   ],
   "source": [
    "products = others.groupby([others[\"nb_prod_act\"], others[\"churn\"]])[\"id\"].count().unstack(level = 1)\n",
    "products.head()"
   ]
  },
  {
   "cell_type": "code",
   "execution_count": 61,
   "metadata": {},
   "outputs": [
    {
     "data": {
      "image/png": "[encoded data removed]",
      "text/plain": [
       "<Figure size 1296x720 with 1 Axes>"
      ]
     },
     "metadata": {
      "needs_background": "light"
     },
     "output_type": "display_data"
    }
   ],
   "source": [
    "products_percentage = (products.div(products.sum(axis = 1), axis = 0) * 100).sort_values(by = [1], ascending = False)\n",
    "plot_stacked_bars(products_percentage, \"Number of products\")"
   ]
  },
  {
   "cell_type": "markdown",
   "metadata": {},
   "source": [
    "**Antiquity of the client (in number of years)**"
   ]
  },
  {
   "cell_type": "code",
   "execution_count": 62,
   "metadata": {},
   "outputs": [
    {
     "data": {
      "image/png": "[encoded data removed]",
      "text/plain": [
       "<Figure size 1296x720 with 1 Axes>"
      ]
     },
     "metadata": {
      "needs_background": "light"
     },
     "output_type": "display_data"
    }
   ],
   "source": [
    "years_antig = others.groupby([others[\"num_years_antig\"], others[\"churn\"]])[\"id\"].count().unstack(level = 1)\n",
    "years_antig_percentage = (years_antig.div(years_antig.sum(axis = 1), axis = 0) * 100)\n",
    "plot_stacked_bars(years_antig_percentage, \"Number Years\")"
   ]
  },
  {
   "cell_type": "markdown",
   "metadata": {},
   "source": [
    "**Code of the electricity campaign the customer first subscribed to**"
   ]
  },
  {
   "cell_type": "code",
   "execution_count": 72,
   "metadata": {},
   "outputs": [
    {
     "data": {
      "text/html": [
       "<div>\n",
       "<style scoped>\n",
       "    .dataframe tbody tr th:only-of-type {\n",
       "        vertical-align: middle;\n",
       "    }\n",
       "\n",
       "    .dataframe tbody tr th {\n",
       "        vertical-align: top;\n",
       "    }\n",
       "\n",
       "    .dataframe thead th {\n",
       "        text-align: right;\n",
       "    }\n",
       "</style>\n",
       "<table border=\"1\" class=\"dataframe\">\n",
       "  <thead>\n",
       "    <tr style=\"text-align: right;\">\n",
       "      <th>churn</th>\n",
       "      <th>0</th>\n",
       "      <th>1</th>\n",
       "    </tr>\n",
       "    <tr>\n",
       "      <th>origin_up</th>\n",
       "      <th></th>\n",
       "      <th></th>\n",
       "    </tr>\n",
       "  </thead>\n",
       "  <tbody>\n",
       "    <tr>\n",
       "      <th>ewxeelcelemmiwuafmddpobolfuxioce</th>\n",
       "      <td>1.0</td>\n",
       "      <td>NaN</td>\n",
       "    </tr>\n",
       "    <tr>\n",
       "      <th>kamkkxfxxuwbdslkwifmmcsiusiuosws</th>\n",
       "      <td>4252.0</td>\n",
       "      <td>265.0</td>\n",
       "    </tr>\n",
       "    <tr>\n",
       "      <th>ldkssxwpmemidmecebumciepifcamkci</th>\n",
       "      <td>3349.0</td>\n",
       "      <td>315.0</td>\n",
       "    </tr>\n",
       "    <tr>\n",
       "      <th>lxidpiddsbxsbosboudacockeimpuepw</th>\n",
       "      <td>6815.0</td>\n",
       "      <td>1010.0</td>\n",
       "    </tr>\n",
       "    <tr>\n",
       "      <th>usapbepcfoloekilkwsdiboslwaxobdp</th>\n",
       "      <td>2.0</td>\n",
       "      <td>NaN</td>\n",
       "    </tr>\n",
       "  </tbody>\n",
       "</table>\n",
       "</div>"
      ],
      "text/plain": [
       "churn                                  0       1\n",
       "origin_up                                       \n",
       "ewxeelcelemmiwuafmddpobolfuxioce     1.0     NaN\n",
       "kamkkxfxxuwbdslkwifmmcsiusiuosws  4252.0   265.0\n",
       "ldkssxwpmemidmecebumciepifcamkci  3349.0   315.0\n",
       "lxidpiddsbxsbosboudacockeimpuepw  6815.0  1010.0\n",
       "usapbepcfoloekilkwsdiboslwaxobdp     2.0     NaN"
      ]
     },
     "execution_count": 72,
     "metadata": {},
     "output_type": "execute_result"
    }
   ],
   "source": [
    "origin = others.groupby([others[\"origin_up\"], others[\"churn\"]])[\"id\"].count().unstack(level = 1)\n",
    "origin"
   ]
  },
  {
   "cell_type": "code",
   "execution_count": 73,
   "metadata": {},
   "outputs": [
    {
     "data": {
      "image/png": "[encoded data removed]",
      "text/plain": [
       "<Figure size 1296x720 with 1 Axes>"
      ]
     },
     "metadata": {
      "needs_background": "light"
     },
     "output_type": "display_data"
    }
   ],
   "source": [
    "origin_percentage = (origin.div(origin.sum(axis = 1), axis = 0) * 100)\n",
    "plot_stacked_bars(origin_percentage, \"Origin contract/offer\")"
   ]
  },
  {
   "cell_type": "markdown",
   "metadata": {},
   "source": [
    "### Data Cleaning"
   ]
  },
  {
   "cell_type": "markdown",
   "metadata": {},
   "source": [
    "**Missing Data**"
   ]
  },
  {
   "cell_type": "code",
   "execution_count": 76,
   "metadata": {
    "scrolled": false
   },
   "outputs": [
    {
     "data": {
      "image/png": "[encoded data removed]",
      "text/plain": [
       "<Figure size 1296x720 with 1 Axes>"
      ]
     },
     "metadata": {
      "needs_background": "light"
     },
     "output_type": "display_data"
    }
   ],
   "source": [
    "((df_train.isnull().sum() / len(df_train)) * 100).plot(kind = \"bar\", figsize = (18, 10))\n",
    "plt.xlabel(\"Variables\")\n",
    "plt.ylabel(\"Missing Values (%)\")\n",
    "plt.show()"
   ]
  },
  {
   "cell_type": "markdown",
   "metadata": {},
   "source": [
    "For simplicity we will remove the variables with more than 60% of the values missing."
   ]
  },
  {
   "cell_type": "code",
   "execution_count": 78,
   "metadata": {},
   "outputs": [],
   "source": [
    "df_train.drop(columns = [\"date_first_activ\",\n",
    " \"forecast_base_bill_ele\",\"forecast_base_bill_year\",\n",
    " \"forecast_bill_12m\", \"forecast_cons\"], inplace = True)"
   ]
  },
  {
   "cell_type": "markdown",
   "metadata": {},
   "source": [
    "Notice how the columns that we removed do not appear in the dataframe anymore."
   ]
  },
  {
   "cell_type": "code",
   "execution_count": 79,
   "metadata": {},
   "outputs": [
    {
     "data": {
      "text/html": [
       "<div>\n",
       "<style scoped>\n",
       "    .dataframe tbody tr th:only-of-type {\n",
       "        vertical-align: middle;\n",
       "    }\n",
       "\n",
       "    .dataframe tbody tr th {\n",
       "        vertical-align: top;\n",
       "    }\n",
       "\n",
       "    .dataframe thead th {\n",
       "        text-align: right;\n",
       "    }\n",
       "</style>\n",
       "<table border=\"1\" class=\"dataframe\">\n",
       "  <thead>\n",
       "    <tr style=\"text-align: right;\">\n",
       "      <th></th>\n",
       "      <th>DataFrame columns</th>\n",
       "    </tr>\n",
       "  </thead>\n",
       "  <tbody>\n",
       "    <tr>\n",
       "      <th>0</th>\n",
       "      <td>id</td>\n",
       "    </tr>\n",
       "    <tr>\n",
       "      <th>1</th>\n",
       "      <td>activity_new</td>\n",
       "    </tr>\n",
       "    <tr>\n",
       "      <th>2</th>\n",
       "      <td>channel_sales</td>\n",
       "    </tr>\n",
       "    <tr>\n",
       "      <th>3</th>\n",
       "      <td>cons_12m</td>\n",
       "    </tr>\n",
       "    <tr>\n",
       "      <th>4</th>\n",
       "      <td>cons_gas_12m</td>\n",
       "    </tr>\n",
       "    <tr>\n",
       "      <th>5</th>\n",
       "      <td>cons_last_month</td>\n",
       "    </tr>\n",
       "    <tr>\n",
       "      <th>6</th>\n",
       "      <td>date_activ</td>\n",
       "    </tr>\n",
       "    <tr>\n",
       "      <th>7</th>\n",
       "      <td>date_end</td>\n",
       "    </tr>\n",
       "    <tr>\n",
       "      <th>8</th>\n",
       "      <td>date_modif_prod</td>\n",
       "    </tr>\n",
       "    <tr>\n",
       "      <th>9</th>\n",
       "      <td>date_renewal</td>\n",
       "    </tr>\n",
       "    <tr>\n",
       "      <th>10</th>\n",
       "      <td>forecast_cons_12m</td>\n",
       "    </tr>\n",
       "    <tr>\n",
       "      <th>11</th>\n",
       "      <td>forecast_cons_year</td>\n",
       "    </tr>\n",
       "    <tr>\n",
       "      <th>12</th>\n",
       "      <td>forecast_discount_energy</td>\n",
       "    </tr>\n",
       "    <tr>\n",
       "      <th>13</th>\n",
       "      <td>forecast_meter_rent_12m</td>\n",
       "    </tr>\n",
       "    <tr>\n",
       "      <th>14</th>\n",
       "      <td>forecast_price_energy_p1</td>\n",
       "    </tr>\n",
       "    <tr>\n",
       "      <th>15</th>\n",
       "      <td>forecast_price_energy_p2</td>\n",
       "    </tr>\n",
       "    <tr>\n",
       "      <th>16</th>\n",
       "      <td>forecast_price_pow_p1</td>\n",
       "    </tr>\n",
       "    <tr>\n",
       "      <th>17</th>\n",
       "      <td>has_gas</td>\n",
       "    </tr>\n",
       "    <tr>\n",
       "      <th>18</th>\n",
       "      <td>imp_cons</td>\n",
       "    </tr>\n",
       "    <tr>\n",
       "      <th>19</th>\n",
       "      <td>margin_gross_pow_ele</td>\n",
       "    </tr>\n",
       "    <tr>\n",
       "      <th>20</th>\n",
       "      <td>margin_net_pow_ele</td>\n",
       "    </tr>\n",
       "    <tr>\n",
       "      <th>21</th>\n",
       "      <td>nb_prod_act</td>\n",
       "    </tr>\n",
       "    <tr>\n",
       "      <th>22</th>\n",
       "      <td>net_margin</td>\n",
       "    </tr>\n",
       "    <tr>\n",
       "      <th>23</th>\n",
       "      <td>num_years_antig</td>\n",
       "    </tr>\n",
       "    <tr>\n",
       "      <th>24</th>\n",
       "      <td>origin_up</td>\n",
       "    </tr>\n",
       "    <tr>\n",
       "      <th>25</th>\n",
       "      <td>pow_max</td>\n",
       "    </tr>\n",
       "    <tr>\n",
       "      <th>26</th>\n",
       "      <td>churn</td>\n",
       "    </tr>\n",
       "  </tbody>\n",
       "</table>\n",
       "</div>"
      ],
      "text/plain": [
       "           DataFrame columns\n",
       "0                         id\n",
       "1               activity_new\n",
       "2              channel_sales\n",
       "3                   cons_12m\n",
       "4               cons_gas_12m\n",
       "5            cons_last_month\n",
       "6                 date_activ\n",
       "7                   date_end\n",
       "8            date_modif_prod\n",
       "9               date_renewal\n",
       "10         forecast_cons_12m\n",
       "11        forecast_cons_year\n",
       "12  forecast_discount_energy\n",
       "13   forecast_meter_rent_12m\n",
       "14  forecast_price_energy_p1\n",
       "15  forecast_price_energy_p2\n",
       "16     forecast_price_pow_p1\n",
       "17                   has_gas\n",
       "18                  imp_cons\n",
       "19      margin_gross_pow_ele\n",
       "20        margin_net_pow_ele\n",
       "21               nb_prod_act\n",
       "22                net_margin\n",
       "23           num_years_antig\n",
       "24                 origin_up\n",
       "25                   pow_max\n",
       "26                     churn"
      ]
     },
     "execution_count": 79,
     "metadata": {},
     "output_type": "execute_result"
    }
   ],
   "source": [
    "# Targeted Columns\n",
    "pd.DataFrame({\"DataFrame columns\": df_train.columns})"
   ]
  },
  {
   "cell_type": "markdown",
   "metadata": {},
   "source": [
    "### Duplicates"
   ]
  },
  {
   "cell_type": "markdown",
   "metadata": {},
   "source": [
    "We want to make sure all the data we have is unique and we don't have any duplicated rows. For that, we're going to use the .duplicated()\n",
    "function in pandas."
   ]
  },
  {
   "cell_type": "code",
   "execution_count": 80,
   "metadata": {},
   "outputs": [
    {
     "data": {
      "text/html": [
       "<div>\n",
       "<style scoped>\n",
       "    .dataframe tbody tr th:only-of-type {\n",
       "        vertical-align: middle;\n",
       "    }\n",
       "\n",
       "    .dataframe tbody tr th {\n",
       "        vertical-align: top;\n",
       "    }\n",
       "\n",
       "    .dataframe thead th {\n",
       "        text-align: right;\n",
       "    }\n",
       "</style>\n",
       "<table border=\"1\" class=\"dataframe\">\n",
       "  <thead>\n",
       "    <tr style=\"text-align: right;\">\n",
       "      <th></th>\n",
       "      <th>id</th>\n",
       "      <th>activity_new</th>\n",
       "      <th>channel_sales</th>\n",
       "      <th>cons_12m</th>\n",
       "      <th>cons_gas_12m</th>\n",
       "      <th>cons_last_month</th>\n",
       "      <th>date_activ</th>\n",
       "      <th>date_end</th>\n",
       "      <th>date_modif_prod</th>\n",
       "      <th>date_renewal</th>\n",
       "      <th>...</th>\n",
       "      <th>has_gas</th>\n",
       "      <th>imp_cons</th>\n",
       "      <th>margin_gross_pow_ele</th>\n",
       "      <th>margin_net_pow_ele</th>\n",
       "      <th>nb_prod_act</th>\n",
       "      <th>net_margin</th>\n",
       "      <th>num_years_antig</th>\n",
       "      <th>origin_up</th>\n",
       "      <th>pow_max</th>\n",
       "      <th>churn</th>\n",
       "    </tr>\n",
       "  </thead>\n",
       "  <tbody>\n",
       "  </tbody>\n",
       "</table>\n",
       "<p>0 rows × 27 columns</p>\n",
       "</div>"
      ],
      "text/plain": [
       "Empty DataFrame\n",
       "Columns: [id, activity_new, channel_sales, cons_12m, cons_gas_12m, cons_last_month, date_activ, date_end, date_modif_prod, date_renewal, forecast_cons_12m, forecast_cons_year, forecast_discount_energy, forecast_meter_rent_12m, forecast_price_energy_p1, forecast_price_energy_p2, forecast_price_pow_p1, has_gas, imp_cons, margin_gross_pow_ele, margin_net_pow_ele, nb_prod_act, net_margin, num_years_antig, origin_up, pow_max, churn]\n",
       "Index: []\n",
       "\n",
       "[0 rows x 27 columns]"
      ]
     },
     "execution_count": 80,
     "metadata": {},
     "output_type": "execute_result"
    }
   ],
   "source": [
    "df_train[df_train.duplicated()]"
   ]
  },
  {
   "cell_type": "markdown",
   "metadata": {},
   "source": [
    "### Formatting Data"
   ]
  },
  {
   "cell_type": "markdown",
   "metadata": {},
   "source": [
    "The simplest way, we will replace the missing values with the median (the most frequent date). For numerical values, the built-in function .median()\n",
    "can be used, but this will not work for dates or strings, so we will use a workaround using .value counts()"
   ]
  },
  {
   "cell_type": "markdown",
   "metadata": {},
   "source": [
    "**Missing Dates**"
   ]
  },
  {
   "cell_type": "code",
   "execution_count": 85,
   "metadata": {},
   "outputs": [],
   "source": [
    "df_train.loc[df_train[\"date_modif_prod\"].isnull(), \"date_modif_prod\"] = df_train[\"date_modif_prod\"].value_counts().index[0]\n",
    "df_train.loc[df_train[\"date_end\"].isnull(), \"data_end\"] = df_train[\"date_end\"].value_counts().index[0]\n",
    "df_train.loc[df_train[\"date_renewal\"].isnull(), \"date_renewal\"] = df_train[\"date_renewal\"].value_counts().index[0]"
   ]
  },
  {
   "cell_type": "markdown",
   "metadata": {},
   "source": [
    "**Missing Prices**"
   ]
  },
  {
   "cell_type": "code",
   "execution_count": 88,
   "metadata": {},
   "outputs": [
    {
     "data": {
      "image/png": "[encoded data removed]",
      "text/plain": [
       "<Figure size 1296x720 with 1 Axes>"
      ]
     },
     "metadata": {
      "needs_background": "light"
     },
     "output_type": "display_data"
    }
   ],
   "source": [
    "missing_data_percentage = (df_training_data_history.isnull().sum() / len(df_training_data_history.index)) * 100\n",
    "missing_data_percentage.plot(kind = \"bar\", figsize = (18, 10))\n",
    "plt.xlabel(\"Variables\")\n",
    "plt.ylabel(\"Missing Values (%)\")\n",
    "plt.show()"
   ]
  },
  {
   "cell_type": "markdown",
   "metadata": {},
   "source": [
    "There is not much data missing. Instead of removing the entries that are empty we will simply substitute them with the median ."
   ]
  },
  {
   "cell_type": "code",
   "execution_count": 90,
   "metadata": {},
   "outputs": [
    {
     "data": {
      "text/html": [
       "<div>\n",
       "<style scoped>\n",
       "    .dataframe tbody tr th:only-of-type {\n",
       "        vertical-align: middle;\n",
       "    }\n",
       "\n",
       "    .dataframe tbody tr th {\n",
       "        vertical-align: top;\n",
       "    }\n",
       "\n",
       "    .dataframe thead th {\n",
       "        text-align: right;\n",
       "    }\n",
       "</style>\n",
       "<table border=\"1\" class=\"dataframe\">\n",
       "  <thead>\n",
       "    <tr style=\"text-align: right;\">\n",
       "      <th></th>\n",
       "      <th>id</th>\n",
       "      <th>price_date</th>\n",
       "      <th>price_p1_var</th>\n",
       "      <th>price_p2_var</th>\n",
       "      <th>price_p3_var</th>\n",
       "      <th>price_p1_fix</th>\n",
       "      <th>price_p2_fix</th>\n",
       "      <th>price_p3_fix</th>\n",
       "    </tr>\n",
       "  </thead>\n",
       "  <tbody>\n",
       "    <tr>\n",
       "      <th>75</th>\n",
       "      <td>ef716222bbd97a8bdfcbb831e3575560</td>\n",
       "      <td>2015-04-01</td>\n",
       "      <td>NaN</td>\n",
       "      <td>NaN</td>\n",
       "      <td>NaN</td>\n",
       "      <td>NaN</td>\n",
       "      <td>NaN</td>\n",
       "      <td>NaN</td>\n",
       "    </tr>\n",
       "    <tr>\n",
       "      <th>221</th>\n",
       "      <td>0f5231100b2febab862f8dd8eaab3f43</td>\n",
       "      <td>2015-06-01</td>\n",
       "      <td>NaN</td>\n",
       "      <td>NaN</td>\n",
       "      <td>NaN</td>\n",
       "      <td>NaN</td>\n",
       "      <td>NaN</td>\n",
       "      <td>NaN</td>\n",
       "    </tr>\n",
       "    <tr>\n",
       "      <th>377</th>\n",
       "      <td>2f93639de582fadfbe3e86ce1c8d8f35</td>\n",
       "      <td>2015-06-01</td>\n",
       "      <td>NaN</td>\n",
       "      <td>NaN</td>\n",
       "      <td>NaN</td>\n",
       "      <td>NaN</td>\n",
       "      <td>NaN</td>\n",
       "      <td>NaN</td>\n",
       "    </tr>\n",
       "    <tr>\n",
       "      <th>413</th>\n",
       "      <td>f83c1ab1ca1d1802bb1df4d72820243c</td>\n",
       "      <td>2015-06-01</td>\n",
       "      <td>NaN</td>\n",
       "      <td>NaN</td>\n",
       "      <td>NaN</td>\n",
       "      <td>NaN</td>\n",
       "      <td>NaN</td>\n",
       "      <td>NaN</td>\n",
       "    </tr>\n",
       "    <tr>\n",
       "      <th>461</th>\n",
       "      <td>3076c6d4a060e12a049d1700d9b09cf3</td>\n",
       "      <td>2015-06-01</td>\n",
       "      <td>NaN</td>\n",
       "      <td>NaN</td>\n",
       "      <td>NaN</td>\n",
       "      <td>NaN</td>\n",
       "      <td>NaN</td>\n",
       "      <td>NaN</td>\n",
       "    </tr>\n",
       "  </tbody>\n",
       "</table>\n",
       "</div>"
      ],
      "text/plain": [
       "                                   id  price_date  price_p1_var  price_p2_var  \\\n",
       "75   ef716222bbd97a8bdfcbb831e3575560  2015-04-01           NaN           NaN   \n",
       "221  0f5231100b2febab862f8dd8eaab3f43  2015-06-01           NaN           NaN   \n",
       "377  2f93639de582fadfbe3e86ce1c8d8f35  2015-06-01           NaN           NaN   \n",
       "413  f83c1ab1ca1d1802bb1df4d72820243c  2015-06-01           NaN           NaN   \n",
       "461  3076c6d4a060e12a049d1700d9b09cf3  2015-06-01           NaN           NaN   \n",
       "\n",
       "     price_p3_var  price_p1_fix  price_p2_fix  price_p3_fix  \n",
       "75            NaN           NaN           NaN           NaN  \n",
       "221           NaN           NaN           NaN           NaN  \n",
       "377           NaN           NaN           NaN           NaN  \n",
       "413           NaN           NaN           NaN           NaN  \n",
       "461           NaN           NaN           NaN           NaN  "
      ]
     },
     "execution_count": 90,
     "metadata": {},
     "output_type": "execute_result"
    }
   ],
   "source": [
    "df_training_data_history[df_training_data_history.isnull().any(axis = 1)].head()"
   ]
  },
  {
   "cell_type": "code",
   "execution_count": 94,
   "metadata": {},
   "outputs": [],
   "source": [
    "df_training_data_history.loc[df_training_data_history[\"price_p1_var\"].isnull(), \"price_p1_var\"] = df_training_data_history[\"price_p1_var\"].median()\n",
    "df_training_data_history.loc[df_training_data_history[\"price_p2_var\"].isnull(), \"price_p2_var\"] = df_training_data_history[\"price_p2_var\"].median()\n",
    "df_training_data_history.loc[df_training_data_history[\"price_p3_var\"].isnull(), \"price_p3_var\"] = df_training_data_history[\"price_p3_var\"].median()\n",
    "df_training_data_history.loc[df_training_data_history[\"price_p1_fix\"].isnull(), \"price_p1_fix\"] = df_training_data_history[\"price_p1_var\"].median()\n",
    "df_training_data_history.loc[df_training_data_history[\"price_p2_fix\"].isnull(), \"price_p2_fix\"] = df_training_data_history[\"price_p2_var\"].median()\n",
    "df_training_data_history.loc[df_training_data_history[\"price_p3_fix\"].isnull(), \"price_p3_fix\"] = df_training_data_history[\"price_p3_var\"].median()"
   ]
  },
  {
   "cell_type": "markdown",
   "metadata": {},
   "source": [
    "### Formating dates (history data)"
   ]
  },
  {
   "cell_type": "code",
   "execution_count": 95,
   "metadata": {},
   "outputs": [],
   "source": [
    "df_training_data_history[\"price_date\"] = pd.to_datetime(df_training_data_history[\"price_date\"], format = \"%Y-%m-%d\")"
   ]
  },
  {
   "cell_type": "code",
   "execution_count": 96,
   "metadata": {
    "scrolled": false
   },
   "outputs": [
    {
     "name": "stderr",
     "output_type": "stream",
     "text": [
      "D:\\New folder\\anaconda\\lib\\site-packages\\seaborn\\_decorators.py:36: FutureWarning: Pass the following variable as a keyword arg: x. From version 0.12, the only valid positional argument will be `data`, and passing other arguments without an explicit keyword will result in an error or misinterpretation.\n",
      "  warnings.warn(\n",
      "D:\\New folder\\anaconda\\lib\\site-packages\\seaborn\\_decorators.py:36: FutureWarning: Pass the following variable as a keyword arg: x. From version 0.12, the only valid positional argument will be `data`, and passing other arguments without an explicit keyword will result in an error or misinterpretation.\n",
      "  warnings.warn(\n",
      "D:\\New folder\\anaconda\\lib\\site-packages\\seaborn\\_decorators.py:36: FutureWarning: Pass the following variable as a keyword arg: x. From version 0.12, the only valid positional argument will be `data`, and passing other arguments without an explicit keyword will result in an error or misinterpretation.\n",
      "  warnings.warn(\n",
      "D:\\New folder\\anaconda\\lib\\site-packages\\seaborn\\_decorators.py:36: FutureWarning: Pass the following variable as a keyword arg: x. From version 0.12, the only valid positional argument will be `data`, and passing other arguments without an explicit keyword will result in an error or misinterpretation.\n",
      "  warnings.warn(\n",
      "D:\\New folder\\anaconda\\lib\\site-packages\\seaborn\\_decorators.py:36: FutureWarning: Pass the following variable as a keyword arg: x. From version 0.12, the only valid positional argument will be `data`, and passing other arguments without an explicit keyword will result in an error or misinterpretation.\n",
      "  warnings.warn(\n",
      "D:\\New folder\\anaconda\\lib\\site-packages\\seaborn\\_decorators.py:36: FutureWarning: Pass the following variable as a keyword arg: x. From version 0.12, the only valid positional argument will be `data`, and passing other arguments without an explicit keyword will result in an error or misinterpretation.\n",
      "  warnings.warn(\n"
     ]
    },
    {
     "data": {
      "image/png": "[encoded data removed]",
      "text/plain": [
       "<Figure size 1296x3600 with 7 Axes>"
      ]
     },
     "metadata": {
      "needs_background": "light"
     },
     "output_type": "display_data"
    }
   ],
   "source": [
    "fig, axs = plt.subplots(nrows = 7, figsize = (18, 50))\n",
    "\n",
    "sns.boxplot((df_train[\"cons_12m\"].dropna()), ax = axs[0])\n",
    "sns.boxplot((df_train[df_train[\"has_gas\"] == 1][\"cons_gas_12m\"].dropna()), ax = axs[1])\n",
    "sns.boxplot((df_train[\"cons_last_month\"].dropna()), ax = axs[2])\n",
    "sns.boxplot((df_train[\"forecast_cons_12m\"].dropna()), ax = axs[3])\n",
    "sns.boxplot((df_train[\"forecast_cons_year\"].dropna()), ax = axs[4])\n",
    "sns.boxplot((df_train[\"forecast_meter_rent_12m\"].dropna()), ax = axs[5])\n",
    "sns.boxplot((df_train[\"imp_cons\"].dropna()), ax = axs[6])\n",
    "plt.show()"
   ]
  },
  {
   "cell_type": "markdown",
   "metadata": {},
   "source": [
    "### Negative Data"
   ]
  },
  {
   "cell_type": "markdown",
   "metadata": {},
   "source": [
    "Let's take a look a the historical price data."
   ]
  },
  {
   "cell_type": "code",
   "execution_count": 97,
   "metadata": {},
   "outputs": [
    {
     "data": {
      "text/html": [
       "<div>\n",
       "<style scoped>\n",
       "    .dataframe tbody tr th:only-of-type {\n",
       "        vertical-align: middle;\n",
       "    }\n",
       "\n",
       "    .dataframe tbody tr th {\n",
       "        vertical-align: top;\n",
       "    }\n",
       "\n",
       "    .dataframe thead th {\n",
       "        text-align: right;\n",
       "    }\n",
       "</style>\n",
       "<table border=\"1\" class=\"dataframe\">\n",
       "  <thead>\n",
       "    <tr style=\"text-align: right;\">\n",
       "      <th></th>\n",
       "      <th>price_p1_var</th>\n",
       "      <th>price_p2_var</th>\n",
       "      <th>price_p3_var</th>\n",
       "      <th>price_p1_fix</th>\n",
       "      <th>price_p2_fix</th>\n",
       "      <th>price_p3_fix</th>\n",
       "    </tr>\n",
       "  </thead>\n",
       "  <tbody>\n",
       "    <tr>\n",
       "      <th>count</th>\n",
       "      <td>96398.000000</td>\n",
       "      <td>96398.000000</td>\n",
       "      <td>96398.000000</td>\n",
       "      <td>96398.000000</td>\n",
       "      <td>96398.000000</td>\n",
       "      <td>96398.000000</td>\n",
       "    </tr>\n",
       "    <tr>\n",
       "      <th>mean</th>\n",
       "      <td>0.141023</td>\n",
       "      <td>0.053976</td>\n",
       "      <td>0.030358</td>\n",
       "      <td>43.052869</td>\n",
       "      <td>10.585652</td>\n",
       "      <td>6.369331</td>\n",
       "    </tr>\n",
       "    <tr>\n",
       "      <th>std</th>\n",
       "      <td>0.024861</td>\n",
       "      <td>0.049968</td>\n",
       "      <td>0.036289</td>\n",
       "      <td>6.512854</td>\n",
       "      <td>12.852530</td>\n",
       "      <td>7.760004</td>\n",
       "    </tr>\n",
       "    <tr>\n",
       "      <th>min</th>\n",
       "      <td>0.000000</td>\n",
       "      <td>0.000000</td>\n",
       "      <td>0.000000</td>\n",
       "      <td>-0.162916</td>\n",
       "      <td>-0.097749</td>\n",
       "      <td>-0.065166</td>\n",
       "    </tr>\n",
       "    <tr>\n",
       "      <th>25%</th>\n",
       "      <td>0.125976</td>\n",
       "      <td>0.000000</td>\n",
       "      <td>0.000000</td>\n",
       "      <td>40.728885</td>\n",
       "      <td>0.000000</td>\n",
       "      <td>0.000000</td>\n",
       "    </tr>\n",
       "    <tr>\n",
       "      <th>50%</th>\n",
       "      <td>0.146124</td>\n",
       "      <td>0.085058</td>\n",
       "      <td>0.000000</td>\n",
       "      <td>44.266930</td>\n",
       "      <td>0.000000</td>\n",
       "      <td>0.000000</td>\n",
       "    </tr>\n",
       "    <tr>\n",
       "      <th>75%</th>\n",
       "      <td>0.151635</td>\n",
       "      <td>0.101673</td>\n",
       "      <td>0.072558</td>\n",
       "      <td>44.444710</td>\n",
       "      <td>24.339581</td>\n",
       "      <td>16.226389</td>\n",
       "    </tr>\n",
       "    <tr>\n",
       "      <th>max</th>\n",
       "      <td>0.280700</td>\n",
       "      <td>0.181480</td>\n",
       "      <td>0.114102</td>\n",
       "      <td>59.444710</td>\n",
       "      <td>36.490692</td>\n",
       "      <td>17.458221</td>\n",
       "    </tr>\n",
       "  </tbody>\n",
       "</table>\n",
       "</div>"
      ],
      "text/plain": [
       "       price_p1_var  price_p2_var  price_p3_var  price_p1_fix  price_p2_fix  \\\n",
       "count  96398.000000  96398.000000  96398.000000  96398.000000  96398.000000   \n",
       "mean       0.141023      0.053976      0.030358     43.052869     10.585652   \n",
       "std        0.024861      0.049968      0.036289      6.512854     12.852530   \n",
       "min        0.000000      0.000000      0.000000     -0.162916     -0.097749   \n",
       "25%        0.125976      0.000000      0.000000     40.728885      0.000000   \n",
       "50%        0.146124      0.085058      0.000000     44.266930      0.000000   \n",
       "75%        0.151635      0.101673      0.072558     44.444710     24.339581   \n",
       "max        0.280700      0.181480      0.114102     59.444710     36.490692   \n",
       "\n",
       "       price_p3_fix  \n",
       "count  96398.000000  \n",
       "mean       6.369331  \n",
       "std        7.760004  \n",
       "min       -0.065166  \n",
       "25%        0.000000  \n",
       "50%        0.000000  \n",
       "75%       16.226389  \n",
       "max       17.458221  "
      ]
     },
     "execution_count": 97,
     "metadata": {},
     "output_type": "execute_result"
    }
   ],
   "source": [
    "df_training_data_history.describe()"
   ]
  },
  {
   "cell_type": "markdown",
   "metadata": {},
   "source": [
    "We will replace the negative values with the median (most frequent value)"
   ]
  },
  {
   "cell_type": "code",
   "execution_count": 102,
   "metadata": {},
   "outputs": [],
   "source": [
    "df_training_data_history.loc[df_training_data_history[\"price_p1_fix\"] < 0, \"price_p1_fix\"] = df_training_data_history[\"price_p1_fix\"].median()\n",
    "df_training_data_history.loc[df_training_data_history[\"price_p2_fix\"] < 0, \"price_p2_fix\"] = df_training_data_history[\"price_p2_fix\"].median() \n",
    "df_training_data_history.loc[df_training_data_history[\"price_p3_fix\"] < 0, \"price_p3_fix\"] = df_training_data_history[\"price_p3_fix\"].median()"
   ]
  },
  {
   "cell_type": "code",
   "execution_count": 103,
   "metadata": {},
   "outputs": [
    {
     "data": {
      "text/html": [
       "<div>\n",
       "<style scoped>\n",
       "    .dataframe tbody tr th:only-of-type {\n",
       "        vertical-align: middle;\n",
       "    }\n",
       "\n",
       "    .dataframe tbody tr th {\n",
       "        vertical-align: top;\n",
       "    }\n",
       "\n",
       "    .dataframe thead th {\n",
       "        text-align: right;\n",
       "    }\n",
       "</style>\n",
       "<table border=\"1\" class=\"dataframe\">\n",
       "  <thead>\n",
       "    <tr style=\"text-align: right;\">\n",
       "      <th></th>\n",
       "      <th>id</th>\n",
       "      <th>price_date</th>\n",
       "      <th>price_p1_var</th>\n",
       "      <th>price_p2_var</th>\n",
       "      <th>price_p3_var</th>\n",
       "      <th>price_p1_fix</th>\n",
       "      <th>price_p2_fix</th>\n",
       "      <th>price_p3_fix</th>\n",
       "    </tr>\n",
       "  </thead>\n",
       "  <tbody>\n",
       "    <tr>\n",
       "      <th>0</th>\n",
       "      <td>038af19179925da21a25619c5a24b745</td>\n",
       "      <td>2015-01-01</td>\n",
       "      <td>0.151367</td>\n",
       "      <td>0.0</td>\n",
       "      <td>0.0</td>\n",
       "      <td>44.266931</td>\n",
       "      <td>0.0</td>\n",
       "      <td>0.0</td>\n",
       "    </tr>\n",
       "    <tr>\n",
       "      <th>1</th>\n",
       "      <td>038af19179925da21a25619c5a24b745</td>\n",
       "      <td>2015-02-01</td>\n",
       "      <td>0.151367</td>\n",
       "      <td>0.0</td>\n",
       "      <td>0.0</td>\n",
       "      <td>44.266931</td>\n",
       "      <td>0.0</td>\n",
       "      <td>0.0</td>\n",
       "    </tr>\n",
       "    <tr>\n",
       "      <th>2</th>\n",
       "      <td>038af19179925da21a25619c5a24b745</td>\n",
       "      <td>2015-03-01</td>\n",
       "      <td>0.151367</td>\n",
       "      <td>0.0</td>\n",
       "      <td>0.0</td>\n",
       "      <td>44.266931</td>\n",
       "      <td>0.0</td>\n",
       "      <td>0.0</td>\n",
       "    </tr>\n",
       "    <tr>\n",
       "      <th>3</th>\n",
       "      <td>038af19179925da21a25619c5a24b745</td>\n",
       "      <td>2015-04-01</td>\n",
       "      <td>0.149626</td>\n",
       "      <td>0.0</td>\n",
       "      <td>0.0</td>\n",
       "      <td>44.266931</td>\n",
       "      <td>0.0</td>\n",
       "      <td>0.0</td>\n",
       "    </tr>\n",
       "    <tr>\n",
       "      <th>4</th>\n",
       "      <td>038af19179925da21a25619c5a24b745</td>\n",
       "      <td>2015-05-01</td>\n",
       "      <td>0.149626</td>\n",
       "      <td>0.0</td>\n",
       "      <td>0.0</td>\n",
       "      <td>44.266931</td>\n",
       "      <td>0.0</td>\n",
       "      <td>0.0</td>\n",
       "    </tr>\n",
       "  </tbody>\n",
       "</table>\n",
       "</div>"
      ],
      "text/plain": [
       "                                 id price_date  price_p1_var  price_p2_var  \\\n",
       "0  038af19179925da21a25619c5a24b745 2015-01-01      0.151367           0.0   \n",
       "1  038af19179925da21a25619c5a24b745 2015-02-01      0.151367           0.0   \n",
       "2  038af19179925da21a25619c5a24b745 2015-03-01      0.151367           0.0   \n",
       "3  038af19179925da21a25619c5a24b745 2015-04-01      0.149626           0.0   \n",
       "4  038af19179925da21a25619c5a24b745 2015-05-01      0.149626           0.0   \n",
       "\n",
       "   price_p3_var  price_p1_fix  price_p2_fix  price_p3_fix  \n",
       "0           0.0     44.266931           0.0           0.0  \n",
       "1           0.0     44.266931           0.0           0.0  \n",
       "2           0.0     44.266931           0.0           0.0  \n",
       "3           0.0     44.266931           0.0           0.0  \n",
       "4           0.0     44.266931           0.0           0.0  "
      ]
     },
     "execution_count": 103,
     "metadata": {},
     "output_type": "execute_result"
    }
   ],
   "source": [
    "df_training_data_history.head()"
   ]
  },
  {
   "cell_type": "code",
   "execution_count": null,
   "metadata": {},
   "outputs": [],
   "source": []
  }
 ],
 "metadata": {
  "kernelspec": {
   "display_name": "Python 3",
   "language": "python",
   "name": "python3"
  },
  "language_info": {
   "codemirror_mode": {
    "name": "ipython",
    "version": 3
   },
   "file_extension": ".py",
   "mimetype": "text/x-python",
   "name": "python",
   "nbconvert_exporter": "python",
   "pygments_lexer": "ipython3",
   "version": "3.8.3"
  }
 },
 "nbformat": 4,
 "nbformat_minor": 4
}
